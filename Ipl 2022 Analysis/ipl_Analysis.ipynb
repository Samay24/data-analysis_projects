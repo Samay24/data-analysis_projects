{
 "cells": [
  {
   "cell_type": "markdown",
   "id": "f3bb201f",
   "metadata": {},
   "source": [
    "# Ipl Data Analysis"
   ]
  },
  {
   "cell_type": "code",
   "execution_count": 29,
   "id": "579b7f41",
   "metadata": {},
   "outputs": [],
   "source": [
    "import pandas as pd\n",
    "import plotly.express as px\n",
    "import plotly.graph_objects as go"
   ]
  },
  {
   "cell_type": "code",
   "execution_count": 30,
   "id": "9701311f",
   "metadata": {},
   "outputs": [
    {
     "data": {
      "application/vnd.microsoft.datawrangler.viewer.v0+json": {
       "columns": [
        {
         "name": "index",
         "rawType": "int64",
         "type": "integer"
        },
        {
         "name": "match_id",
         "rawType": "int64",
         "type": "integer"
        },
        {
         "name": "date",
         "rawType": "object",
         "type": "string"
        },
        {
         "name": "venue",
         "rawType": "object",
         "type": "string"
        },
        {
         "name": "team1",
         "rawType": "object",
         "type": "string"
        },
        {
         "name": "team2",
         "rawType": "object",
         "type": "string"
        },
        {
         "name": "stage",
         "rawType": "object",
         "type": "string"
        },
        {
         "name": "toss_winner",
         "rawType": "object",
         "type": "unknown"
        },
        {
         "name": "toss_decision",
         "rawType": "object",
         "type": "unknown"
        },
        {
         "name": "first_ings_score",
         "rawType": "float64",
         "type": "float"
        },
        {
         "name": "first_ings_wkts",
         "rawType": "float64",
         "type": "float"
        },
        {
         "name": "second_ings_score",
         "rawType": "float64",
         "type": "float"
        },
        {
         "name": "second_ings_wkts",
         "rawType": "float64",
         "type": "float"
        },
        {
         "name": "match_winner",
         "rawType": "object",
         "type": "unknown"
        },
        {
         "name": "won_by",
         "rawType": "object",
         "type": "unknown"
        },
        {
         "name": "margin",
         "rawType": "float64",
         "type": "float"
        },
        {
         "name": "player_of_the_match",
         "rawType": "object",
         "type": "unknown"
        },
        {
         "name": "top_scorer",
         "rawType": "object",
         "type": "unknown"
        },
        {
         "name": "highscore",
         "rawType": "float64",
         "type": "float"
        },
        {
         "name": "best_bowling",
         "rawType": "object",
         "type": "unknown"
        },
        {
         "name": "best_bowling_figure",
         "rawType": "object",
         "type": "unknown"
        }
       ],
       "ref": "64dfe239-845c-49d1-b5b8-a95e1581c376",
       "rows": [
        [
         "0",
         "1",
         "March 26,2022",
         "Wankhede Stadium, Mumbai",
         "Chennai",
         "Kolkata",
         "Group",
         "Kolkata",
         "Field",
         "131.0",
         "5.0",
         "133.0",
         "4.0",
         "Kolkata",
         "Wickets",
         "6.0",
         "Umesh Yadav",
         "MS Dhoni",
         "50.0",
         "Dwayne Bravo",
         "3--20"
        ],
        [
         "1",
         "2",
         "March 27,2022",
         "Brabourne Stadium, Mumbai",
         "Delhi",
         "Mumbai",
         "Group",
         "Delhi",
         "Field",
         "177.0",
         "5.0",
         "179.0",
         "6.0",
         "Delhi",
         "Wickets",
         "4.0",
         "Kuldeep Yadav",
         "Ishan Kishan",
         "81.0",
         "Kuldeep Yadav",
         "3--18"
        ],
        [
         "2",
         "3",
         "March 27,2022",
         "Dr DY Patil Sports Academy, Mumbai",
         "Banglore",
         "Punjab",
         "Group",
         "Punjab",
         "Field",
         "205.0",
         "2.0",
         "208.0",
         "5.0",
         "Punjab",
         "Wickets",
         "5.0",
         "Odean Smith",
         "Faf du Plessis",
         "88.0",
         "Mohammed Siraj",
         "2--59"
        ],
        [
         "3",
         "4",
         "March 28,2022",
         "Wankhede Stadium, Mumbai",
         "Gujarat",
         "Lucknow",
         "Group",
         "Gujarat",
         "Field",
         "158.0",
         "6.0",
         "161.0",
         "5.0",
         "Gujarat",
         "Wickets",
         "5.0",
         "Mohammed Shami",
         "Deepak Hooda",
         "55.0",
         "Mohammed Shami",
         "3--25"
        ],
        [
         "4",
         "5",
         "March 29,2022",
         "Maharashtra Cricket Association Stadium,Pune",
         "Hyderabad",
         "Rajasthan",
         "Group",
         "Hyderabad",
         "Field",
         "210.0",
         "6.0",
         "149.0",
         "7.0",
         "Rajasthan",
         "Runs",
         "61.0",
         "Sanju Samson",
         "Aiden Markram",
         "57.0",
         "Yuzvendra Chahal",
         "3--22"
        ],
        [
         "5",
         "6",
         "March 30,2022",
         "Dr DY Patil Sports Academy, Mumbai",
         "Banglore",
         "Kolkata",
         "Group",
         "Banglore",
         "Field",
         "128.0",
         "10.0",
         "132.0",
         "7.0",
         "Banglore",
         "Wickets",
         "3.0",
         "Wanindu Hasaranga",
         "Sherfane Rutherford",
         "28.0",
         "Wanindu Hasaranga",
         "4--20"
        ],
        [
         "6",
         "7",
         "March 31,2022",
         "Brabourne Stadium, Mumbai",
         "Chennai",
         "Lucknow",
         "Group",
         "Lucknow",
         "Field",
         "210.0",
         "7.0",
         "211.0",
         "4.0",
         "Lucknow",
         "Wickets",
         "6.0",
         "Evin Lewis",
         "Quinton de Kock",
         "61.0",
         "Ravi Bishnoi",
         "2--24"
        ],
        [
         "7",
         "8",
         "April 1,2022",
         "Wankhede Stadium, Mumbai",
         "Kolkata",
         "Punjab",
         "Group",
         "Kolkata",
         "Field",
         "137.0",
         "10.0",
         "141.0",
         "4.0",
         "Kolkata",
         "Wickets",
         "6.0",
         "Umesh Yadav",
         "Andre Russell",
         "70.0",
         "Umesh Yadav",
         "4--23"
        ],
        [
         "8",
         "9",
         "April 2,2022",
         "Dr DY Patil Sports Academy, Mumbai",
         "Mumbai",
         "Rajasthan",
         "Group",
         "Mumbai",
         "Field",
         "193.0",
         "8.0",
         "170.0",
         "8.0",
         "Rajasthan",
         "Runs",
         "23.0",
         "Jos Buttler",
         "Jos Buttler",
         "100.0",
         "Jasprit Bumrah",
         "3--17"
        ],
        [
         "9",
         "10",
         "April 2,2022",
         "Maharashtra Cricket Association Stadium,Pune",
         "Delhi",
         "Gujarat",
         "Group",
         "Delhi",
         "Field",
         "171.0",
         "6.0",
         "157.0",
         "9.0",
         "Gujarat",
         "Runs",
         "14.0",
         "Lockie Ferguson",
         "Shubman Gill",
         "84.0",
         "Lockie Ferguson",
         "4--28"
        ],
        [
         "10",
         "11",
         "April 3,2022",
         "Brabourne Stadium, Mumbai",
         "Chennai",
         "Punjab",
         "Group",
         "Chennai",
         "Field",
         "180.0",
         "8.0",
         "126.0",
         "10.0",
         "Punjab",
         "Runs",
         "54.0",
         "Liam Livingstone",
         "LiamLivingstone",
         "60.0",
         "Rahul Chahar",
         "3--25"
        ],
        [
         "11",
         "12",
         "April 4,2022",
         "Dr DY Patil Sports Academy, Mumbai",
         "Hyderabad",
         "Lucknow",
         "Group",
         "Hyderabad",
         "Field",
         "169.0",
         "7.0",
         "157.0",
         "9.0",
         "Lucknow",
         "Runs",
         "12.0",
         "Avesh Khan",
         "KL Rahul",
         "68.0",
         "Avesh Khan",
         "4--24"
        ],
        [
         "12",
         "13",
         "April 5,2022",
         "Wankhede Stadium, Mumbai",
         "Banglore",
         "Rajasthan",
         "Group",
         "Banglore",
         "Field",
         "169.0",
         "3.0",
         "173.0",
         "6.0",
         "Banglore",
         "Wickets",
         "4.0",
         "Dinesh Karthik",
         "Jos Buttler",
         "70.0",
         "Yuzvendra Chahal",
         "2--15"
        ],
        [
         "13",
         "14",
         "April 6,2022",
         "Maharashtra Cricket Association Stadium,Pune",
         "Kolkata",
         "Mumbai",
         "Group",
         "Kolkata",
         "Field",
         "161.0",
         "4.0",
         "162.0",
         "5.0",
         "Kolkata",
         "Wickets",
         "5.0",
         "Pat Cummins",
         "Pat Cummins",
         "56.0",
         "Murugan Ashwin",
         "2--25"
        ],
        [
         "14",
         "15",
         "April 7,2022",
         "Dr DY Patil Sports Academy, Mumbai",
         "Delhi",
         "Lucknow",
         "Group",
         "Lucknow",
         "Field",
         "149.0",
         "3.0",
         "155.0",
         "4.0",
         "Lucknow",
         "Wickets",
         "6.0",
         "Quinton de Kock",
         "Quinton de Kock",
         "80.0",
         "Ravi Bishnoi",
         "2--22"
        ],
        [
         "15",
         "16",
         "April 8,2022",
         "Brabourne Stadium, Mumbai",
         "Gujarat",
         "Punjab",
         "Group",
         "Gujarat",
         "Field",
         "189.0",
         "9.0",
         "190.0",
         "4.0",
         "Gujarat",
         "Wickets",
         "6.0",
         "Shubman Gill",
         "Shubman Gill",
         "96.0",
         "Rashid Khan",
         "3--22"
        ],
        [
         "16",
         "17",
         "April 9,2022",
         "Dr DY Patil Sports Academy, Mumbai",
         "Chennai",
         "Hyderabad",
         "Group",
         "Hyderabad",
         "Field",
         "154.0",
         "7.0",
         "155.0",
         "2.0",
         "Hyderabad",
         "Wickets",
         "8.0",
         "Abhishek Sharma",
         "Abhishek Sharma",
         "75.0",
         "Washington Sundar",
         "2--21"
        ],
        [
         "17",
         "18",
         "April 9,2022",
         "Maharashtra Cricket Association Stadium,Pune",
         "Banglore",
         "Mumbai",
         "Group",
         "Banglore",
         "Field",
         "151.0",
         "6.0",
         "152.0",
         "3.0",
         "Banglore",
         "Wickets",
         "7.0",
         "Anuj Rawat",
         "Suryakumar Yadav",
         "68.0",
         "Harshal Patel",
         "2--23"
        ],
        [
         "18",
         "19",
         "April 10,2022",
         "Brabourne Stadium, Mumbai",
         "Delhi",
         "Kolkata",
         "Group",
         "Kolkata",
         "Field",
         "215.0",
         "5.0",
         "171.0",
         "10.0",
         "Delhi",
         "Runs",
         "44.0",
         "Kuldeep Yadav",
         "David Warner",
         "61.0",
         "Kuldeep Yadav",
         "4--35"
        ],
        [
         "19",
         "20",
         "April 10,2022",
         "Wankhede Stadium, Mumbai",
         "Lucknow",
         "Rajasthan",
         "Group",
         "Lucknow",
         "Field",
         "165.0",
         "6.0",
         "162.0",
         "8.0",
         "Rajasthan",
         "Runs",
         "3.0",
         "Yuzvendra Chahal",
         "Shimron Hetmyer",
         "59.0",
         "Yuzvendra Chahal",
         "4--41"
        ],
        [
         "20",
         "21",
         "April11,2022",
         "Dr DY Patil Sports Academy, Mumbai",
         "Gujarat",
         "Hyderabad",
         "Group",
         "Hyderabad",
         "Field",
         "162.0",
         "7.0",
         "168.0",
         "2.0",
         "Hyderabad",
         "Wickets",
         "8.0",
         "Kane Williamson",
         "Kane Williamson",
         "57.0",
         "T Natarajan",
         "2--34"
        ],
        [
         "21",
         "22",
         "April 12,2022",
         "Dr DY Patil Sports Academy, Mumbai",
         "Banglore",
         "Chennai",
         "Group",
         "Banglore",
         "Field",
         "216.0",
         "4.0",
         "193.0",
         "9.0",
         "Chennai",
         "Runs",
         "23.0",
         "Shivam Dube",
         "Shivam Dube",
         "95.0",
         "Maheesh Theekshana",
         "4--33"
        ],
        [
         "22",
         "23",
         "April 13,2022",
         "Maharashtra Cricket Association Stadium,Pune",
         "Mumbai",
         "Punjab",
         "Group",
         "Mumbai",
         "Field",
         "198.0",
         "5.0",
         "186.0",
         "9.0",
         "Punjab",
         "Runs",
         "12.0",
         "Mayank Agarwal",
         "Shikhar Dhawan",
         "70.0",
         "Odean Smith",
         "4--30"
        ],
        [
         "23",
         "24",
         "April 14,2022",
         "Dr DY Patil Sports Academy, Mumbai",
         "Gujarat",
         "Rajasthan",
         "Group",
         "Rajasthan",
         "Field",
         "192.0",
         "4.0",
         "155.0",
         "9.0",
         "Gujarat",
         "Runs",
         "37.0",
         "Hardik Pandya",
         "Hardik Pandya",
         "87.0",
         "Lockie Ferguson",
         "3--23"
        ],
        [
         "24",
         "25",
         "April 15,2022",
         "Brabourne Stadium, Mumbai",
         "Hyderabad",
         "Kolkata",
         "Group",
         "Hyderabad",
         "Field",
         "175.0",
         "8.0",
         "176.0",
         "3.0",
         "Hyderabad",
         "Wickets",
         "7.0",
         "Rahul Tripathi",
         "Rahul Tripathi",
         "71.0",
         "T Natarajan",
         "3--37"
        ],
        [
         "25",
         "26",
         "April 16,2022",
         "Brabourne Stadium, Mumbai",
         "Lucknow",
         "Mumbai",
         "Group",
         "Mumbai",
         "Field",
         "199.0",
         "4.0",
         "181.0",
         "9.0",
         "Lucknow",
         "Runs",
         "18.0",
         "K L Rahul",
         "KL Rahul",
         "103.0",
         "Avesh Khan",
         "3--30"
        ],
        [
         "26",
         "27",
         "April 16,2022",
         "Wankhede Stadium, Mumbai",
         "Banglore",
         "Delhi",
         "Group",
         "Delhi",
         "Field",
         "189.0",
         "5.0",
         "173.0",
         "7.0",
         "Banglore",
         "Runs",
         "16.0",
         "Dinesh Karthik",
         "Dinesh Karthik",
         "66.0",
         "Josh Hazlewood",
         "3--28"
        ],
        [
         "27",
         "28",
         "April 17,2022",
         "Dr DY Patil Sports Academy, Mumbai",
         "Hyderabad",
         "Punjab",
         "Group",
         "Hyderabad",
         "Field",
         "151.0",
         "10.0",
         "152.0",
         "3.0",
         "Hyderabad",
         "Wickets",
         "7.0",
         "Umran Malik",
         "LiamLivingstone",
         "60.0",
         "Umran Malik",
         "4--28"
        ],
        [
         "28",
         "29",
         "April 17,2022",
         "Maharashtra Cricket Association Stadium,Pune",
         "Chennai",
         "Gujarat",
         "Group",
         "Gujarat",
         "Field",
         "169.0",
         "5.0",
         "170.0",
         "7.0",
         "Gujarat",
         "Wickets",
         "3.0",
         "David Miller",
         "David Miller",
         "94.0",
         "Dwayne Bravo",
         "3--23"
        ],
        [
         "29",
         "30",
         "April 18,2022",
         "Brabourne Stadium, Mumbai",
         "Kolkata",
         "Rajasthan",
         "Group",
         "Kolkata",
         "Field",
         "217.0",
         "5.0",
         "210.0",
         "10.0",
         "Rajasthan",
         "Runs",
         "7.0",
         "Yuzvendra Chahal",
         "Jos Buttler",
         "103.0",
         "Yuzvendra Chahal",
         "5--40"
        ],
        [
         "30",
         "31",
         "April 19,2022",
         "Dr DY Patil Sports Academy, Mumbai",
         "Banglore",
         "Lucknow",
         "Group",
         "Lucknow",
         "Field",
         "181.0",
         "6.0",
         "163.0",
         "8.0",
         "Banglore",
         "Runs",
         "18.0",
         "Faf du Plessis",
         "Faf du Plessis",
         "96.0",
         "Josh Hazlewood",
         "4--25"
        ],
        [
         "31",
         "32",
         "April 20,2022",
         "Brabourne Stadium, Mumbai",
         "Delhi",
         "Punjab",
         "Group",
         "Delhi",
         "Field",
         "115.0",
         "10.0",
         "119.0",
         "1.0",
         "Delhi",
         "Wickets",
         "9.0",
         "Kuldeep Yadav",
         "David Warner",
         "60.0",
         "Axar Patel",
         "2--10"
        ],
        [
         "32",
         "33",
         "April 21,2022",
         "Dr DY Patil Sports Academy, Mumbai",
         "Chennai",
         "Mumbai",
         "Group",
         "Chennai",
         "Field",
         "155.0",
         "7.0",
         "156.0",
         "7.0",
         "Chennai",
         "Wickets",
         "3.0",
         "Mukesh Choudhary",
         "Tilak Varma",
         "51.0",
         "Daniel Sams",
         "4--30"
        ],
        [
         "33",
         "34",
         "April 22,2022",
         "Wankhede Stadium, Mumbai",
         "Delhi",
         "Rajasthan",
         "Group",
         "Delhi",
         "Field",
         "222.0",
         "2.0",
         "207.0",
         "8.0",
         "Rajasthan",
         "Runs",
         "15.0",
         "Jos Buttler",
         "Jos Buttler",
         "116.0",
         "Prasidh Krishna",
         "3--22"
        ],
        [
         "34",
         "35",
         "April 23,2022",
         "Dr DY Patil Sports Academy, Mumbai",
         "Gujarat",
         "Kolkata",
         "Group",
         "Gujarat",
         "Bat",
         "156.0",
         "9.0",
         "148.0",
         "8.0",
         "Gujarat",
         "Runs",
         "8.0",
         "Rashid Khan",
         "Hardik Pandya",
         "67.0",
         "Andre Russell",
         "4--5"
        ],
        [
         "35",
         "36",
         "April 23,2022",
         "Brabourne Stadium, Mumbai",
         "Banglore",
         "Hyderabad",
         "Group",
         "Hyderabad",
         "Field",
         "68.0",
         "10.0",
         "72.0",
         "1.0",
         "Hyderabad",
         "Wickets",
         "9.0",
         "Marco Jansen",
         "Abhishek Sharma",
         "47.0",
         "T Natarajan",
         "3--10"
        ],
        [
         "36",
         "37",
         "April 24,2022",
         "Wankhede Stadium, Mumbai",
         "Lucknow",
         "Mumbai",
         "Group",
         "Mumbai",
         "Field",
         "168.0",
         "6.0",
         "132.0",
         "8.0",
         "Lucknow",
         "Runs",
         "36.0",
         "K L Rahul",
         "KL Rahul",
         "103.0",
         "Krunal Pandya",
         "3--19"
        ],
        [
         "37",
         "38",
         "April 25,2022",
         "Wankhede Stadium, Mumbai",
         "Chennai",
         "Punjab",
         "Group",
         "Chennai",
         "Field",
         "187.0",
         "4.0",
         "176.0",
         "6.0",
         "Punjab",
         "Runs",
         "11.0",
         "Shikhar Dhawan",
         "Shikhar Dhawan",
         "88.0",
         "Kagiso Rabada",
         "2--23"
        ],
        [
         "38",
         "39",
         "April 26,2022",
         "Maharashtra Cricket Association Stadium,Pune",
         "Banglore",
         "Rajasthan",
         "Group",
         "Banglore",
         "Field",
         "144.0",
         "8.0",
         "115.0",
         "10.0",
         "Rajasthan",
         "Runs",
         "29.0",
         "Riyan Parag",
         "Riyan Parag",
         "56.0",
         "Kuldeep Sen",
         "4--20"
        ],
        [
         "39",
         "40",
         "April 27,2022",
         "Wankhede Stadium, Mumbai",
         "Gujarat",
         "Hyderabad",
         "Group",
         "Gujarat",
         "Field",
         "195.0",
         "6.0",
         "199.0",
         "5.0",
         "Gujarat",
         "Wickets",
         "5.0",
         "Umran Malik",
         "W. Saha",
         "68.0",
         "Umran Malik",
         "5--25"
        ],
        [
         "40",
         "41",
         "April 28,2022",
         "Wankhede Stadium, Mumbai",
         "Delhi",
         "Kolkata",
         "Group",
         "Delhi",
         "Field",
         "146.0",
         "9.0",
         "150.0",
         "6.0",
         "Delhi",
         "Wickets",
         "4.0",
         "Kuldeep Yadav",
         "Nitish Rana",
         "57.0",
         "Kuldeep Yadav",
         "4--14"
        ],
        [
         "41",
         "42",
         "April 29,2022",
         "Maharashtra Cricket Association Stadium,Pune",
         "Lucknow",
         "Punjab",
         "Group",
         "Punjab",
         "Field",
         "153.0",
         "8.0",
         "133.0",
         "8.0",
         "Lucknow",
         "Runs",
         "20.0",
         "Krunal Pandya",
         "Quinton de Kock",
         "46.0",
         "Kagiso Rabada",
         "4--38"
        ],
        [
         "42",
         "43",
         "April 30,2022",
         "Brabourne Stadium, Mumbai",
         "Banglore",
         "Gujarat",
         "Group",
         "Banglore",
         "Bat",
         "170.0",
         "6.0",
         "174.0",
         "4.0",
         "Gujarat",
         "Wickets",
         "6.0",
         "Rahul Tewatia",
         "Virat Kohli",
         "58.0",
         "Pradeep Sangwan",
         "2--19"
        ],
        [
         "43",
         "44",
         "April 30,2022",
         "Dr DY Patil Sports Academy, Mumbai",
         "Mumbai",
         "Rajasthan",
         "Group",
         "Mumbai",
         "Field",
         "158.0",
         "6.0",
         "161.0",
         "5.0",
         "Mumbai",
         "Wickets",
         "5.0",
         "Suruakumar Yadav",
         "Jos Buttler",
         "67.0",
         "Rilley Meredith",
         "2--24"
        ],
        [
         "44",
         "45",
         "May 1,2022",
         "Wankhede Stadium, Mumbai",
         "Delhi",
         "Lucknow",
         "Group",
         "Lucknow",
         "Bat",
         "195.0",
         "3.0",
         "189.0",
         "7.0",
         "Lucknow",
         "Runs",
         "6.0",
         "Mohsin Khan",
         "KL Rahul",
         "77.0",
         "Mohsin Khan",
         "4--16"
        ],
        [
         "45",
         "46",
         "May 1,2022",
         "Maharashtra Cricket Association Stadium,Pune",
         "Chennai",
         "Hyderabad",
         "Group",
         "Hyderabad",
         "Field",
         "202.0",
         "2.0",
         "189.0",
         "6.0",
         "Chennai",
         "Runs",
         "13.0",
         "Ruturaj Gaikwad",
         "Ruturaj Gaikwad",
         "99.0",
         "Mukesh Choudhary",
         "4--46"
        ],
        [
         "46",
         "47",
         "May 2,2022",
         "Wankhede Stadium, Mumbai",
         "Kolkata",
         "Rajasthan",
         "Group",
         "Kolkata",
         "Field",
         "152.0",
         "5.0",
         "158.0",
         "3.0",
         "Kolkata",
         "Wickets",
         "7.0",
         "Rinku Singh",
         "Sanju Samson",
         "54.0",
         "Tim Southee",
         "2--46"
        ],
        [
         "47",
         "48",
         "May 3,2022",
         "Dr DY Patil Sports Academy, Mumbai",
         "Gujarat",
         "Punjab",
         "Group",
         "Gujarat",
         "Bat",
         "143.0",
         "8.0",
         "145.0",
         "2.0",
         "Punjab",
         "Wickets",
         "8.0",
         "Kagiso Rabada",
         "Sai Sudharsan",
         "65.0",
         "Kagiso Rabada",
         "4--33"
        ],
        [
         "48",
         "49",
         "May 4,2022",
         "Maharashtra Cricket Association Stadium,Pune",
         "Banglore",
         "Chennai",
         "Group",
         "Chennai",
         "Field",
         "173.0",
         "8.0",
         "160.0",
         "8.0",
         "Banglore",
         "Runs",
         "13.0",
         null,
         "Devon Conway",
         "56.0",
         "Maheesh Theekshana",
         "3--27"
        ],
        [
         "49",
         "50",
         "May 5,2022",
         "Brabourne Stadium, Mumbai",
         "Delhi",
         "Hyderabad",
         "Group",
         null,
         null,
         null,
         null,
         null,
         null,
         null,
         null,
         null,
         null,
         null,
         null,
         null,
         null
        ]
       ],
       "shape": {
        "columns": 20,
        "rows": 53
       }
      },
      "text/html": [
       "<div>\n",
       "<style scoped>\n",
       "    .dataframe tbody tr th:only-of-type {\n",
       "        vertical-align: middle;\n",
       "    }\n",
       "\n",
       "    .dataframe tbody tr th {\n",
       "        vertical-align: top;\n",
       "    }\n",
       "\n",
       "    .dataframe thead th {\n",
       "        text-align: right;\n",
       "    }\n",
       "</style>\n",
       "<table border=\"1\" class=\"dataframe\">\n",
       "  <thead>\n",
       "    <tr style=\"text-align: right;\">\n",
       "      <th></th>\n",
       "      <th>match_id</th>\n",
       "      <th>date</th>\n",
       "      <th>venue</th>\n",
       "      <th>team1</th>\n",
       "      <th>team2</th>\n",
       "      <th>stage</th>\n",
       "      <th>toss_winner</th>\n",
       "      <th>toss_decision</th>\n",
       "      <th>first_ings_score</th>\n",
       "      <th>first_ings_wkts</th>\n",
       "      <th>second_ings_score</th>\n",
       "      <th>second_ings_wkts</th>\n",
       "      <th>match_winner</th>\n",
       "      <th>won_by</th>\n",
       "      <th>margin</th>\n",
       "      <th>player_of_the_match</th>\n",
       "      <th>top_scorer</th>\n",
       "      <th>highscore</th>\n",
       "      <th>best_bowling</th>\n",
       "      <th>best_bowling_figure</th>\n",
       "    </tr>\n",
       "  </thead>\n",
       "  <tbody>\n",
       "    <tr>\n",
       "      <th>0</th>\n",
       "      <td>1</td>\n",
       "      <td>March 26,2022</td>\n",
       "      <td>Wankhede Stadium, Mumbai</td>\n",
       "      <td>Chennai</td>\n",
       "      <td>Kolkata</td>\n",
       "      <td>Group</td>\n",
       "      <td>Kolkata</td>\n",
       "      <td>Field</td>\n",
       "      <td>131.0</td>\n",
       "      <td>5.0</td>\n",
       "      <td>133.0</td>\n",
       "      <td>4.0</td>\n",
       "      <td>Kolkata</td>\n",
       "      <td>Wickets</td>\n",
       "      <td>6.0</td>\n",
       "      <td>Umesh Yadav</td>\n",
       "      <td>MS Dhoni</td>\n",
       "      <td>50.0</td>\n",
       "      <td>Dwayne Bravo</td>\n",
       "      <td>3--20</td>\n",
       "    </tr>\n",
       "    <tr>\n",
       "      <th>1</th>\n",
       "      <td>2</td>\n",
       "      <td>March 27,2022</td>\n",
       "      <td>Brabourne Stadium, Mumbai</td>\n",
       "      <td>Delhi</td>\n",
       "      <td>Mumbai</td>\n",
       "      <td>Group</td>\n",
       "      <td>Delhi</td>\n",
       "      <td>Field</td>\n",
       "      <td>177.0</td>\n",
       "      <td>5.0</td>\n",
       "      <td>179.0</td>\n",
       "      <td>6.0</td>\n",
       "      <td>Delhi</td>\n",
       "      <td>Wickets</td>\n",
       "      <td>4.0</td>\n",
       "      <td>Kuldeep Yadav</td>\n",
       "      <td>Ishan Kishan</td>\n",
       "      <td>81.0</td>\n",
       "      <td>Kuldeep Yadav</td>\n",
       "      <td>3--18</td>\n",
       "    </tr>\n",
       "    <tr>\n",
       "      <th>2</th>\n",
       "      <td>3</td>\n",
       "      <td>March 27,2022</td>\n",
       "      <td>Dr DY Patil Sports Academy, Mumbai</td>\n",
       "      <td>Banglore</td>\n",
       "      <td>Punjab</td>\n",
       "      <td>Group</td>\n",
       "      <td>Punjab</td>\n",
       "      <td>Field</td>\n",
       "      <td>205.0</td>\n",
       "      <td>2.0</td>\n",
       "      <td>208.0</td>\n",
       "      <td>5.0</td>\n",
       "      <td>Punjab</td>\n",
       "      <td>Wickets</td>\n",
       "      <td>5.0</td>\n",
       "      <td>Odean Smith</td>\n",
       "      <td>Faf du Plessis</td>\n",
       "      <td>88.0</td>\n",
       "      <td>Mohammed Siraj</td>\n",
       "      <td>2--59</td>\n",
       "    </tr>\n",
       "    <tr>\n",
       "      <th>3</th>\n",
       "      <td>4</td>\n",
       "      <td>March 28,2022</td>\n",
       "      <td>Wankhede Stadium, Mumbai</td>\n",
       "      <td>Gujarat</td>\n",
       "      <td>Lucknow</td>\n",
       "      <td>Group</td>\n",
       "      <td>Gujarat</td>\n",
       "      <td>Field</td>\n",
       "      <td>158.0</td>\n",
       "      <td>6.0</td>\n",
       "      <td>161.0</td>\n",
       "      <td>5.0</td>\n",
       "      <td>Gujarat</td>\n",
       "      <td>Wickets</td>\n",
       "      <td>5.0</td>\n",
       "      <td>Mohammed Shami</td>\n",
       "      <td>Deepak Hooda</td>\n",
       "      <td>55.0</td>\n",
       "      <td>Mohammed Shami</td>\n",
       "      <td>3--25</td>\n",
       "    </tr>\n",
       "    <tr>\n",
       "      <th>4</th>\n",
       "      <td>5</td>\n",
       "      <td>March 29,2022</td>\n",
       "      <td>Maharashtra Cricket Association Stadium,Pune</td>\n",
       "      <td>Hyderabad</td>\n",
       "      <td>Rajasthan</td>\n",
       "      <td>Group</td>\n",
       "      <td>Hyderabad</td>\n",
       "      <td>Field</td>\n",
       "      <td>210.0</td>\n",
       "      <td>6.0</td>\n",
       "      <td>149.0</td>\n",
       "      <td>7.0</td>\n",
       "      <td>Rajasthan</td>\n",
       "      <td>Runs</td>\n",
       "      <td>61.0</td>\n",
       "      <td>Sanju Samson</td>\n",
       "      <td>Aiden Markram</td>\n",
       "      <td>57.0</td>\n",
       "      <td>Yuzvendra Chahal</td>\n",
       "      <td>3--22</td>\n",
       "    </tr>\n",
       "    <tr>\n",
       "      <th>5</th>\n",
       "      <td>6</td>\n",
       "      <td>March 30,2022</td>\n",
       "      <td>Dr DY Patil Sports Academy, Mumbai</td>\n",
       "      <td>Banglore</td>\n",
       "      <td>Kolkata</td>\n",
       "      <td>Group</td>\n",
       "      <td>Banglore</td>\n",
       "      <td>Field</td>\n",
       "      <td>128.0</td>\n",
       "      <td>10.0</td>\n",
       "      <td>132.0</td>\n",
       "      <td>7.0</td>\n",
       "      <td>Banglore</td>\n",
       "      <td>Wickets</td>\n",
       "      <td>3.0</td>\n",
       "      <td>Wanindu Hasaranga</td>\n",
       "      <td>Sherfane Rutherford</td>\n",
       "      <td>28.0</td>\n",
       "      <td>Wanindu Hasaranga</td>\n",
       "      <td>4--20</td>\n",
       "    </tr>\n",
       "    <tr>\n",
       "      <th>6</th>\n",
       "      <td>7</td>\n",
       "      <td>March 31,2022</td>\n",
       "      <td>Brabourne Stadium, Mumbai</td>\n",
       "      <td>Chennai</td>\n",
       "      <td>Lucknow</td>\n",
       "      <td>Group</td>\n",
       "      <td>Lucknow</td>\n",
       "      <td>Field</td>\n",
       "      <td>210.0</td>\n",
       "      <td>7.0</td>\n",
       "      <td>211.0</td>\n",
       "      <td>4.0</td>\n",
       "      <td>Lucknow</td>\n",
       "      <td>Wickets</td>\n",
       "      <td>6.0</td>\n",
       "      <td>Evin Lewis</td>\n",
       "      <td>Quinton de Kock</td>\n",
       "      <td>61.0</td>\n",
       "      <td>Ravi Bishnoi</td>\n",
       "      <td>2--24</td>\n",
       "    </tr>\n",
       "    <tr>\n",
       "      <th>7</th>\n",
       "      <td>8</td>\n",
       "      <td>April 1,2022</td>\n",
       "      <td>Wankhede Stadium, Mumbai</td>\n",
       "      <td>Kolkata</td>\n",
       "      <td>Punjab</td>\n",
       "      <td>Group</td>\n",
       "      <td>Kolkata</td>\n",
       "      <td>Field</td>\n",
       "      <td>137.0</td>\n",
       "      <td>10.0</td>\n",
       "      <td>141.0</td>\n",
       "      <td>4.0</td>\n",
       "      <td>Kolkata</td>\n",
       "      <td>Wickets</td>\n",
       "      <td>6.0</td>\n",
       "      <td>Umesh Yadav</td>\n",
       "      <td>Andre Russell</td>\n",
       "      <td>70.0</td>\n",
       "      <td>Umesh Yadav</td>\n",
       "      <td>4--23</td>\n",
       "    </tr>\n",
       "    <tr>\n",
       "      <th>8</th>\n",
       "      <td>9</td>\n",
       "      <td>April 2,2022</td>\n",
       "      <td>Dr DY Patil Sports Academy, Mumbai</td>\n",
       "      <td>Mumbai</td>\n",
       "      <td>Rajasthan</td>\n",
       "      <td>Group</td>\n",
       "      <td>Mumbai</td>\n",
       "      <td>Field</td>\n",
       "      <td>193.0</td>\n",
       "      <td>8.0</td>\n",
       "      <td>170.0</td>\n",
       "      <td>8.0</td>\n",
       "      <td>Rajasthan</td>\n",
       "      <td>Runs</td>\n",
       "      <td>23.0</td>\n",
       "      <td>Jos Buttler</td>\n",
       "      <td>Jos Buttler</td>\n",
       "      <td>100.0</td>\n",
       "      <td>Jasprit Bumrah</td>\n",
       "      <td>3--17</td>\n",
       "    </tr>\n",
       "    <tr>\n",
       "      <th>9</th>\n",
       "      <td>10</td>\n",
       "      <td>April 2,2022</td>\n",
       "      <td>Maharashtra Cricket Association Stadium,Pune</td>\n",
       "      <td>Delhi</td>\n",
       "      <td>Gujarat</td>\n",
       "      <td>Group</td>\n",
       "      <td>Delhi</td>\n",
       "      <td>Field</td>\n",
       "      <td>171.0</td>\n",
       "      <td>6.0</td>\n",
       "      <td>157.0</td>\n",
       "      <td>9.0</td>\n",
       "      <td>Gujarat</td>\n",
       "      <td>Runs</td>\n",
       "      <td>14.0</td>\n",
       "      <td>Lockie Ferguson</td>\n",
       "      <td>Shubman Gill</td>\n",
       "      <td>84.0</td>\n",
       "      <td>Lockie Ferguson</td>\n",
       "      <td>4--28</td>\n",
       "    </tr>\n",
       "    <tr>\n",
       "      <th>10</th>\n",
       "      <td>11</td>\n",
       "      <td>April 3,2022</td>\n",
       "      <td>Brabourne Stadium, Mumbai</td>\n",
       "      <td>Chennai</td>\n",
       "      <td>Punjab</td>\n",
       "      <td>Group</td>\n",
       "      <td>Chennai</td>\n",
       "      <td>Field</td>\n",
       "      <td>180.0</td>\n",
       "      <td>8.0</td>\n",
       "      <td>126.0</td>\n",
       "      <td>10.0</td>\n",
       "      <td>Punjab</td>\n",
       "      <td>Runs</td>\n",
       "      <td>54.0</td>\n",
       "      <td>Liam Livingstone</td>\n",
       "      <td>LiamLivingstone</td>\n",
       "      <td>60.0</td>\n",
       "      <td>Rahul Chahar</td>\n",
       "      <td>3--25</td>\n",
       "    </tr>\n",
       "    <tr>\n",
       "      <th>11</th>\n",
       "      <td>12</td>\n",
       "      <td>April 4,2022</td>\n",
       "      <td>Dr DY Patil Sports Academy, Mumbai</td>\n",
       "      <td>Hyderabad</td>\n",
       "      <td>Lucknow</td>\n",
       "      <td>Group</td>\n",
       "      <td>Hyderabad</td>\n",
       "      <td>Field</td>\n",
       "      <td>169.0</td>\n",
       "      <td>7.0</td>\n",
       "      <td>157.0</td>\n",
       "      <td>9.0</td>\n",
       "      <td>Lucknow</td>\n",
       "      <td>Runs</td>\n",
       "      <td>12.0</td>\n",
       "      <td>Avesh Khan</td>\n",
       "      <td>KL Rahul</td>\n",
       "      <td>68.0</td>\n",
       "      <td>Avesh Khan</td>\n",
       "      <td>4--24</td>\n",
       "    </tr>\n",
       "    <tr>\n",
       "      <th>12</th>\n",
       "      <td>13</td>\n",
       "      <td>April 5,2022</td>\n",
       "      <td>Wankhede Stadium, Mumbai</td>\n",
       "      <td>Banglore</td>\n",
       "      <td>Rajasthan</td>\n",
       "      <td>Group</td>\n",
       "      <td>Banglore</td>\n",
       "      <td>Field</td>\n",
       "      <td>169.0</td>\n",
       "      <td>3.0</td>\n",
       "      <td>173.0</td>\n",
       "      <td>6.0</td>\n",
       "      <td>Banglore</td>\n",
       "      <td>Wickets</td>\n",
       "      <td>4.0</td>\n",
       "      <td>Dinesh Karthik</td>\n",
       "      <td>Jos Buttler</td>\n",
       "      <td>70.0</td>\n",
       "      <td>Yuzvendra Chahal</td>\n",
       "      <td>2--15</td>\n",
       "    </tr>\n",
       "    <tr>\n",
       "      <th>13</th>\n",
       "      <td>14</td>\n",
       "      <td>April 6,2022</td>\n",
       "      <td>Maharashtra Cricket Association Stadium,Pune</td>\n",
       "      <td>Kolkata</td>\n",
       "      <td>Mumbai</td>\n",
       "      <td>Group</td>\n",
       "      <td>Kolkata</td>\n",
       "      <td>Field</td>\n",
       "      <td>161.0</td>\n",
       "      <td>4.0</td>\n",
       "      <td>162.0</td>\n",
       "      <td>5.0</td>\n",
       "      <td>Kolkata</td>\n",
       "      <td>Wickets</td>\n",
       "      <td>5.0</td>\n",
       "      <td>Pat Cummins</td>\n",
       "      <td>Pat Cummins</td>\n",
       "      <td>56.0</td>\n",
       "      <td>Murugan Ashwin</td>\n",
       "      <td>2--25</td>\n",
       "    </tr>\n",
       "    <tr>\n",
       "      <th>14</th>\n",
       "      <td>15</td>\n",
       "      <td>April 7,2022</td>\n",
       "      <td>Dr DY Patil Sports Academy, Mumbai</td>\n",
       "      <td>Delhi</td>\n",
       "      <td>Lucknow</td>\n",
       "      <td>Group</td>\n",
       "      <td>Lucknow</td>\n",
       "      <td>Field</td>\n",
       "      <td>149.0</td>\n",
       "      <td>3.0</td>\n",
       "      <td>155.0</td>\n",
       "      <td>4.0</td>\n",
       "      <td>Lucknow</td>\n",
       "      <td>Wickets</td>\n",
       "      <td>6.0</td>\n",
       "      <td>Quinton de Kock</td>\n",
       "      <td>Quinton de Kock</td>\n",
       "      <td>80.0</td>\n",
       "      <td>Ravi Bishnoi</td>\n",
       "      <td>2--22</td>\n",
       "    </tr>\n",
       "    <tr>\n",
       "      <th>15</th>\n",
       "      <td>16</td>\n",
       "      <td>April 8,2022</td>\n",
       "      <td>Brabourne Stadium, Mumbai</td>\n",
       "      <td>Gujarat</td>\n",
       "      <td>Punjab</td>\n",
       "      <td>Group</td>\n",
       "      <td>Gujarat</td>\n",
       "      <td>Field</td>\n",
       "      <td>189.0</td>\n",
       "      <td>9.0</td>\n",
       "      <td>190.0</td>\n",
       "      <td>4.0</td>\n",
       "      <td>Gujarat</td>\n",
       "      <td>Wickets</td>\n",
       "      <td>6.0</td>\n",
       "      <td>Shubman Gill</td>\n",
       "      <td>Shubman Gill</td>\n",
       "      <td>96.0</td>\n",
       "      <td>Rashid Khan</td>\n",
       "      <td>3--22</td>\n",
       "    </tr>\n",
       "    <tr>\n",
       "      <th>16</th>\n",
       "      <td>17</td>\n",
       "      <td>April 9,2022</td>\n",
       "      <td>Dr DY Patil Sports Academy, Mumbai</td>\n",
       "      <td>Chennai</td>\n",
       "      <td>Hyderabad</td>\n",
       "      <td>Group</td>\n",
       "      <td>Hyderabad</td>\n",
       "      <td>Field</td>\n",
       "      <td>154.0</td>\n",
       "      <td>7.0</td>\n",
       "      <td>155.0</td>\n",
       "      <td>2.0</td>\n",
       "      <td>Hyderabad</td>\n",
       "      <td>Wickets</td>\n",
       "      <td>8.0</td>\n",
       "      <td>Abhishek Sharma</td>\n",
       "      <td>Abhishek Sharma</td>\n",
       "      <td>75.0</td>\n",
       "      <td>Washington Sundar</td>\n",
       "      <td>2--21</td>\n",
       "    </tr>\n",
       "    <tr>\n",
       "      <th>17</th>\n",
       "      <td>18</td>\n",
       "      <td>April 9,2022</td>\n",
       "      <td>Maharashtra Cricket Association Stadium,Pune</td>\n",
       "      <td>Banglore</td>\n",
       "      <td>Mumbai</td>\n",
       "      <td>Group</td>\n",
       "      <td>Banglore</td>\n",
       "      <td>Field</td>\n",
       "      <td>151.0</td>\n",
       "      <td>6.0</td>\n",
       "      <td>152.0</td>\n",
       "      <td>3.0</td>\n",
       "      <td>Banglore</td>\n",
       "      <td>Wickets</td>\n",
       "      <td>7.0</td>\n",
       "      <td>Anuj Rawat</td>\n",
       "      <td>Suryakumar Yadav</td>\n",
       "      <td>68.0</td>\n",
       "      <td>Harshal Patel</td>\n",
       "      <td>2--23</td>\n",
       "    </tr>\n",
       "    <tr>\n",
       "      <th>18</th>\n",
       "      <td>19</td>\n",
       "      <td>April 10,2022</td>\n",
       "      <td>Brabourne Stadium, Mumbai</td>\n",
       "      <td>Delhi</td>\n",
       "      <td>Kolkata</td>\n",
       "      <td>Group</td>\n",
       "      <td>Kolkata</td>\n",
       "      <td>Field</td>\n",
       "      <td>215.0</td>\n",
       "      <td>5.0</td>\n",
       "      <td>171.0</td>\n",
       "      <td>10.0</td>\n",
       "      <td>Delhi</td>\n",
       "      <td>Runs</td>\n",
       "      <td>44.0</td>\n",
       "      <td>Kuldeep Yadav</td>\n",
       "      <td>David Warner</td>\n",
       "      <td>61.0</td>\n",
       "      <td>Kuldeep Yadav</td>\n",
       "      <td>4--35</td>\n",
       "    </tr>\n",
       "    <tr>\n",
       "      <th>19</th>\n",
       "      <td>20</td>\n",
       "      <td>April 10,2022</td>\n",
       "      <td>Wankhede Stadium, Mumbai</td>\n",
       "      <td>Lucknow</td>\n",
       "      <td>Rajasthan</td>\n",
       "      <td>Group</td>\n",
       "      <td>Lucknow</td>\n",
       "      <td>Field</td>\n",
       "      <td>165.0</td>\n",
       "      <td>6.0</td>\n",
       "      <td>162.0</td>\n",
       "      <td>8.0</td>\n",
       "      <td>Rajasthan</td>\n",
       "      <td>Runs</td>\n",
       "      <td>3.0</td>\n",
       "      <td>Yuzvendra Chahal</td>\n",
       "      <td>Shimron Hetmyer</td>\n",
       "      <td>59.0</td>\n",
       "      <td>Yuzvendra Chahal</td>\n",
       "      <td>4--41</td>\n",
       "    </tr>\n",
       "    <tr>\n",
       "      <th>20</th>\n",
       "      <td>21</td>\n",
       "      <td>April11,2022</td>\n",
       "      <td>Dr DY Patil Sports Academy, Mumbai</td>\n",
       "      <td>Gujarat</td>\n",
       "      <td>Hyderabad</td>\n",
       "      <td>Group</td>\n",
       "      <td>Hyderabad</td>\n",
       "      <td>Field</td>\n",
       "      <td>162.0</td>\n",
       "      <td>7.0</td>\n",
       "      <td>168.0</td>\n",
       "      <td>2.0</td>\n",
       "      <td>Hyderabad</td>\n",
       "      <td>Wickets</td>\n",
       "      <td>8.0</td>\n",
       "      <td>Kane Williamson</td>\n",
       "      <td>Kane Williamson</td>\n",
       "      <td>57.0</td>\n",
       "      <td>T Natarajan</td>\n",
       "      <td>2--34</td>\n",
       "    </tr>\n",
       "    <tr>\n",
       "      <th>21</th>\n",
       "      <td>22</td>\n",
       "      <td>April 12,2022</td>\n",
       "      <td>Dr DY Patil Sports Academy, Mumbai</td>\n",
       "      <td>Banglore</td>\n",
       "      <td>Chennai</td>\n",
       "      <td>Group</td>\n",
       "      <td>Banglore</td>\n",
       "      <td>Field</td>\n",
       "      <td>216.0</td>\n",
       "      <td>4.0</td>\n",
       "      <td>193.0</td>\n",
       "      <td>9.0</td>\n",
       "      <td>Chennai</td>\n",
       "      <td>Runs</td>\n",
       "      <td>23.0</td>\n",
       "      <td>Shivam Dube</td>\n",
       "      <td>Shivam Dube</td>\n",
       "      <td>95.0</td>\n",
       "      <td>Maheesh Theekshana</td>\n",
       "      <td>4--33</td>\n",
       "    </tr>\n",
       "    <tr>\n",
       "      <th>22</th>\n",
       "      <td>23</td>\n",
       "      <td>April 13,2022</td>\n",
       "      <td>Maharashtra Cricket Association Stadium,Pune</td>\n",
       "      <td>Mumbai</td>\n",
       "      <td>Punjab</td>\n",
       "      <td>Group</td>\n",
       "      <td>Mumbai</td>\n",
       "      <td>Field</td>\n",
       "      <td>198.0</td>\n",
       "      <td>5.0</td>\n",
       "      <td>186.0</td>\n",
       "      <td>9.0</td>\n",
       "      <td>Punjab</td>\n",
       "      <td>Runs</td>\n",
       "      <td>12.0</td>\n",
       "      <td>Mayank Agarwal</td>\n",
       "      <td>Shikhar Dhawan</td>\n",
       "      <td>70.0</td>\n",
       "      <td>Odean Smith</td>\n",
       "      <td>4--30</td>\n",
       "    </tr>\n",
       "    <tr>\n",
       "      <th>23</th>\n",
       "      <td>24</td>\n",
       "      <td>April 14,2022</td>\n",
       "      <td>Dr DY Patil Sports Academy, Mumbai</td>\n",
       "      <td>Gujarat</td>\n",
       "      <td>Rajasthan</td>\n",
       "      <td>Group</td>\n",
       "      <td>Rajasthan</td>\n",
       "      <td>Field</td>\n",
       "      <td>192.0</td>\n",
       "      <td>4.0</td>\n",
       "      <td>155.0</td>\n",
       "      <td>9.0</td>\n",
       "      <td>Gujarat</td>\n",
       "      <td>Runs</td>\n",
       "      <td>37.0</td>\n",
       "      <td>Hardik Pandya</td>\n",
       "      <td>Hardik Pandya</td>\n",
       "      <td>87.0</td>\n",
       "      <td>Lockie Ferguson</td>\n",
       "      <td>3--23</td>\n",
       "    </tr>\n",
       "    <tr>\n",
       "      <th>24</th>\n",
       "      <td>25</td>\n",
       "      <td>April 15,2022</td>\n",
       "      <td>Brabourne Stadium, Mumbai</td>\n",
       "      <td>Hyderabad</td>\n",
       "      <td>Kolkata</td>\n",
       "      <td>Group</td>\n",
       "      <td>Hyderabad</td>\n",
       "      <td>Field</td>\n",
       "      <td>175.0</td>\n",
       "      <td>8.0</td>\n",
       "      <td>176.0</td>\n",
       "      <td>3.0</td>\n",
       "      <td>Hyderabad</td>\n",
       "      <td>Wickets</td>\n",
       "      <td>7.0</td>\n",
       "      <td>Rahul Tripathi</td>\n",
       "      <td>Rahul Tripathi</td>\n",
       "      <td>71.0</td>\n",
       "      <td>T Natarajan</td>\n",
       "      <td>3--37</td>\n",
       "    </tr>\n",
       "    <tr>\n",
       "      <th>25</th>\n",
       "      <td>26</td>\n",
       "      <td>April 16,2022</td>\n",
       "      <td>Brabourne Stadium, Mumbai</td>\n",
       "      <td>Lucknow</td>\n",
       "      <td>Mumbai</td>\n",
       "      <td>Group</td>\n",
       "      <td>Mumbai</td>\n",
       "      <td>Field</td>\n",
       "      <td>199.0</td>\n",
       "      <td>4.0</td>\n",
       "      <td>181.0</td>\n",
       "      <td>9.0</td>\n",
       "      <td>Lucknow</td>\n",
       "      <td>Runs</td>\n",
       "      <td>18.0</td>\n",
       "      <td>K L Rahul</td>\n",
       "      <td>KL Rahul</td>\n",
       "      <td>103.0</td>\n",
       "      <td>Avesh Khan</td>\n",
       "      <td>3--30</td>\n",
       "    </tr>\n",
       "    <tr>\n",
       "      <th>26</th>\n",
       "      <td>27</td>\n",
       "      <td>April 16,2022</td>\n",
       "      <td>Wankhede Stadium, Mumbai</td>\n",
       "      <td>Banglore</td>\n",
       "      <td>Delhi</td>\n",
       "      <td>Group</td>\n",
       "      <td>Delhi</td>\n",
       "      <td>Field</td>\n",
       "      <td>189.0</td>\n",
       "      <td>5.0</td>\n",
       "      <td>173.0</td>\n",
       "      <td>7.0</td>\n",
       "      <td>Banglore</td>\n",
       "      <td>Runs</td>\n",
       "      <td>16.0</td>\n",
       "      <td>Dinesh Karthik</td>\n",
       "      <td>Dinesh Karthik</td>\n",
       "      <td>66.0</td>\n",
       "      <td>Josh Hazlewood</td>\n",
       "      <td>3--28</td>\n",
       "    </tr>\n",
       "    <tr>\n",
       "      <th>27</th>\n",
       "      <td>28</td>\n",
       "      <td>April 17,2022</td>\n",
       "      <td>Dr DY Patil Sports Academy, Mumbai</td>\n",
       "      <td>Hyderabad</td>\n",
       "      <td>Punjab</td>\n",
       "      <td>Group</td>\n",
       "      <td>Hyderabad</td>\n",
       "      <td>Field</td>\n",
       "      <td>151.0</td>\n",
       "      <td>10.0</td>\n",
       "      <td>152.0</td>\n",
       "      <td>3.0</td>\n",
       "      <td>Hyderabad</td>\n",
       "      <td>Wickets</td>\n",
       "      <td>7.0</td>\n",
       "      <td>Umran Malik</td>\n",
       "      <td>LiamLivingstone</td>\n",
       "      <td>60.0</td>\n",
       "      <td>Umran Malik</td>\n",
       "      <td>4--28</td>\n",
       "    </tr>\n",
       "    <tr>\n",
       "      <th>28</th>\n",
       "      <td>29</td>\n",
       "      <td>April 17,2022</td>\n",
       "      <td>Maharashtra Cricket Association Stadium,Pune</td>\n",
       "      <td>Chennai</td>\n",
       "      <td>Gujarat</td>\n",
       "      <td>Group</td>\n",
       "      <td>Gujarat</td>\n",
       "      <td>Field</td>\n",
       "      <td>169.0</td>\n",
       "      <td>5.0</td>\n",
       "      <td>170.0</td>\n",
       "      <td>7.0</td>\n",
       "      <td>Gujarat</td>\n",
       "      <td>Wickets</td>\n",
       "      <td>3.0</td>\n",
       "      <td>David Miller</td>\n",
       "      <td>David Miller</td>\n",
       "      <td>94.0</td>\n",
       "      <td>Dwayne Bravo</td>\n",
       "      <td>3--23</td>\n",
       "    </tr>\n",
       "    <tr>\n",
       "      <th>29</th>\n",
       "      <td>30</td>\n",
       "      <td>April 18,2022</td>\n",
       "      <td>Brabourne Stadium, Mumbai</td>\n",
       "      <td>Kolkata</td>\n",
       "      <td>Rajasthan</td>\n",
       "      <td>Group</td>\n",
       "      <td>Kolkata</td>\n",
       "      <td>Field</td>\n",
       "      <td>217.0</td>\n",
       "      <td>5.0</td>\n",
       "      <td>210.0</td>\n",
       "      <td>10.0</td>\n",
       "      <td>Rajasthan</td>\n",
       "      <td>Runs</td>\n",
       "      <td>7.0</td>\n",
       "      <td>Yuzvendra Chahal</td>\n",
       "      <td>Jos Buttler</td>\n",
       "      <td>103.0</td>\n",
       "      <td>Yuzvendra Chahal</td>\n",
       "      <td>5--40</td>\n",
       "    </tr>\n",
       "    <tr>\n",
       "      <th>30</th>\n",
       "      <td>31</td>\n",
       "      <td>April 19,2022</td>\n",
       "      <td>Dr DY Patil Sports Academy, Mumbai</td>\n",
       "      <td>Banglore</td>\n",
       "      <td>Lucknow</td>\n",
       "      <td>Group</td>\n",
       "      <td>Lucknow</td>\n",
       "      <td>Field</td>\n",
       "      <td>181.0</td>\n",
       "      <td>6.0</td>\n",
       "      <td>163.0</td>\n",
       "      <td>8.0</td>\n",
       "      <td>Banglore</td>\n",
       "      <td>Runs</td>\n",
       "      <td>18.0</td>\n",
       "      <td>Faf du Plessis</td>\n",
       "      <td>Faf du Plessis</td>\n",
       "      <td>96.0</td>\n",
       "      <td>Josh Hazlewood</td>\n",
       "      <td>4--25</td>\n",
       "    </tr>\n",
       "    <tr>\n",
       "      <th>31</th>\n",
       "      <td>32</td>\n",
       "      <td>April 20,2022</td>\n",
       "      <td>Brabourne Stadium, Mumbai</td>\n",
       "      <td>Delhi</td>\n",
       "      <td>Punjab</td>\n",
       "      <td>Group</td>\n",
       "      <td>Delhi</td>\n",
       "      <td>Field</td>\n",
       "      <td>115.0</td>\n",
       "      <td>10.0</td>\n",
       "      <td>119.0</td>\n",
       "      <td>1.0</td>\n",
       "      <td>Delhi</td>\n",
       "      <td>Wickets</td>\n",
       "      <td>9.0</td>\n",
       "      <td>Kuldeep Yadav</td>\n",
       "      <td>David Warner</td>\n",
       "      <td>60.0</td>\n",
       "      <td>Axar Patel</td>\n",
       "      <td>2--10</td>\n",
       "    </tr>\n",
       "    <tr>\n",
       "      <th>32</th>\n",
       "      <td>33</td>\n",
       "      <td>April 21,2022</td>\n",
       "      <td>Dr DY Patil Sports Academy, Mumbai</td>\n",
       "      <td>Chennai</td>\n",
       "      <td>Mumbai</td>\n",
       "      <td>Group</td>\n",
       "      <td>Chennai</td>\n",
       "      <td>Field</td>\n",
       "      <td>155.0</td>\n",
       "      <td>7.0</td>\n",
       "      <td>156.0</td>\n",
       "      <td>7.0</td>\n",
       "      <td>Chennai</td>\n",
       "      <td>Wickets</td>\n",
       "      <td>3.0</td>\n",
       "      <td>Mukesh Choudhary</td>\n",
       "      <td>Tilak Varma</td>\n",
       "      <td>51.0</td>\n",
       "      <td>Daniel Sams</td>\n",
       "      <td>4--30</td>\n",
       "    </tr>\n",
       "    <tr>\n",
       "      <th>33</th>\n",
       "      <td>34</td>\n",
       "      <td>April 22,2022</td>\n",
       "      <td>Wankhede Stadium, Mumbai</td>\n",
       "      <td>Delhi</td>\n",
       "      <td>Rajasthan</td>\n",
       "      <td>Group</td>\n",
       "      <td>Delhi</td>\n",
       "      <td>Field</td>\n",
       "      <td>222.0</td>\n",
       "      <td>2.0</td>\n",
       "      <td>207.0</td>\n",
       "      <td>8.0</td>\n",
       "      <td>Rajasthan</td>\n",
       "      <td>Runs</td>\n",
       "      <td>15.0</td>\n",
       "      <td>Jos Buttler</td>\n",
       "      <td>Jos Buttler</td>\n",
       "      <td>116.0</td>\n",
       "      <td>Prasidh Krishna</td>\n",
       "      <td>3--22</td>\n",
       "    </tr>\n",
       "    <tr>\n",
       "      <th>34</th>\n",
       "      <td>35</td>\n",
       "      <td>April 23,2022</td>\n",
       "      <td>Dr DY Patil Sports Academy, Mumbai</td>\n",
       "      <td>Gujarat</td>\n",
       "      <td>Kolkata</td>\n",
       "      <td>Group</td>\n",
       "      <td>Gujarat</td>\n",
       "      <td>Bat</td>\n",
       "      <td>156.0</td>\n",
       "      <td>9.0</td>\n",
       "      <td>148.0</td>\n",
       "      <td>8.0</td>\n",
       "      <td>Gujarat</td>\n",
       "      <td>Runs</td>\n",
       "      <td>8.0</td>\n",
       "      <td>Rashid Khan</td>\n",
       "      <td>Hardik Pandya</td>\n",
       "      <td>67.0</td>\n",
       "      <td>Andre Russell</td>\n",
       "      <td>4--5</td>\n",
       "    </tr>\n",
       "    <tr>\n",
       "      <th>35</th>\n",
       "      <td>36</td>\n",
       "      <td>April 23,2022</td>\n",
       "      <td>Brabourne Stadium, Mumbai</td>\n",
       "      <td>Banglore</td>\n",
       "      <td>Hyderabad</td>\n",
       "      <td>Group</td>\n",
       "      <td>Hyderabad</td>\n",
       "      <td>Field</td>\n",
       "      <td>68.0</td>\n",
       "      <td>10.0</td>\n",
       "      <td>72.0</td>\n",
       "      <td>1.0</td>\n",
       "      <td>Hyderabad</td>\n",
       "      <td>Wickets</td>\n",
       "      <td>9.0</td>\n",
       "      <td>Marco Jansen</td>\n",
       "      <td>Abhishek Sharma</td>\n",
       "      <td>47.0</td>\n",
       "      <td>T Natarajan</td>\n",
       "      <td>3--10</td>\n",
       "    </tr>\n",
       "    <tr>\n",
       "      <th>36</th>\n",
       "      <td>37</td>\n",
       "      <td>April 24,2022</td>\n",
       "      <td>Wankhede Stadium, Mumbai</td>\n",
       "      <td>Lucknow</td>\n",
       "      <td>Mumbai</td>\n",
       "      <td>Group</td>\n",
       "      <td>Mumbai</td>\n",
       "      <td>Field</td>\n",
       "      <td>168.0</td>\n",
       "      <td>6.0</td>\n",
       "      <td>132.0</td>\n",
       "      <td>8.0</td>\n",
       "      <td>Lucknow</td>\n",
       "      <td>Runs</td>\n",
       "      <td>36.0</td>\n",
       "      <td>K L Rahul</td>\n",
       "      <td>KL Rahul</td>\n",
       "      <td>103.0</td>\n",
       "      <td>Krunal Pandya</td>\n",
       "      <td>3--19</td>\n",
       "    </tr>\n",
       "    <tr>\n",
       "      <th>37</th>\n",
       "      <td>38</td>\n",
       "      <td>April 25,2022</td>\n",
       "      <td>Wankhede Stadium, Mumbai</td>\n",
       "      <td>Chennai</td>\n",
       "      <td>Punjab</td>\n",
       "      <td>Group</td>\n",
       "      <td>Chennai</td>\n",
       "      <td>Field</td>\n",
       "      <td>187.0</td>\n",
       "      <td>4.0</td>\n",
       "      <td>176.0</td>\n",
       "      <td>6.0</td>\n",
       "      <td>Punjab</td>\n",
       "      <td>Runs</td>\n",
       "      <td>11.0</td>\n",
       "      <td>Shikhar Dhawan</td>\n",
       "      <td>Shikhar Dhawan</td>\n",
       "      <td>88.0</td>\n",
       "      <td>Kagiso Rabada</td>\n",
       "      <td>2--23</td>\n",
       "    </tr>\n",
       "    <tr>\n",
       "      <th>38</th>\n",
       "      <td>39</td>\n",
       "      <td>April 26,2022</td>\n",
       "      <td>Maharashtra Cricket Association Stadium,Pune</td>\n",
       "      <td>Banglore</td>\n",
       "      <td>Rajasthan</td>\n",
       "      <td>Group</td>\n",
       "      <td>Banglore</td>\n",
       "      <td>Field</td>\n",
       "      <td>144.0</td>\n",
       "      <td>8.0</td>\n",
       "      <td>115.0</td>\n",
       "      <td>10.0</td>\n",
       "      <td>Rajasthan</td>\n",
       "      <td>Runs</td>\n",
       "      <td>29.0</td>\n",
       "      <td>Riyan Parag</td>\n",
       "      <td>Riyan Parag</td>\n",
       "      <td>56.0</td>\n",
       "      <td>Kuldeep Sen</td>\n",
       "      <td>4--20</td>\n",
       "    </tr>\n",
       "    <tr>\n",
       "      <th>39</th>\n",
       "      <td>40</td>\n",
       "      <td>April 27,2022</td>\n",
       "      <td>Wankhede Stadium, Mumbai</td>\n",
       "      <td>Gujarat</td>\n",
       "      <td>Hyderabad</td>\n",
       "      <td>Group</td>\n",
       "      <td>Gujarat</td>\n",
       "      <td>Field</td>\n",
       "      <td>195.0</td>\n",
       "      <td>6.0</td>\n",
       "      <td>199.0</td>\n",
       "      <td>5.0</td>\n",
       "      <td>Gujarat</td>\n",
       "      <td>Wickets</td>\n",
       "      <td>5.0</td>\n",
       "      <td>Umran Malik</td>\n",
       "      <td>W. Saha</td>\n",
       "      <td>68.0</td>\n",
       "      <td>Umran Malik</td>\n",
       "      <td>5--25</td>\n",
       "    </tr>\n",
       "    <tr>\n",
       "      <th>40</th>\n",
       "      <td>41</td>\n",
       "      <td>April 28,2022</td>\n",
       "      <td>Wankhede Stadium, Mumbai</td>\n",
       "      <td>Delhi</td>\n",
       "      <td>Kolkata</td>\n",
       "      <td>Group</td>\n",
       "      <td>Delhi</td>\n",
       "      <td>Field</td>\n",
       "      <td>146.0</td>\n",
       "      <td>9.0</td>\n",
       "      <td>150.0</td>\n",
       "      <td>6.0</td>\n",
       "      <td>Delhi</td>\n",
       "      <td>Wickets</td>\n",
       "      <td>4.0</td>\n",
       "      <td>Kuldeep Yadav</td>\n",
       "      <td>Nitish Rana</td>\n",
       "      <td>57.0</td>\n",
       "      <td>Kuldeep Yadav</td>\n",
       "      <td>4--14</td>\n",
       "    </tr>\n",
       "    <tr>\n",
       "      <th>41</th>\n",
       "      <td>42</td>\n",
       "      <td>April 29,2022</td>\n",
       "      <td>Maharashtra Cricket Association Stadium,Pune</td>\n",
       "      <td>Lucknow</td>\n",
       "      <td>Punjab</td>\n",
       "      <td>Group</td>\n",
       "      <td>Punjab</td>\n",
       "      <td>Field</td>\n",
       "      <td>153.0</td>\n",
       "      <td>8.0</td>\n",
       "      <td>133.0</td>\n",
       "      <td>8.0</td>\n",
       "      <td>Lucknow</td>\n",
       "      <td>Runs</td>\n",
       "      <td>20.0</td>\n",
       "      <td>Krunal Pandya</td>\n",
       "      <td>Quinton de Kock</td>\n",
       "      <td>46.0</td>\n",
       "      <td>Kagiso Rabada</td>\n",
       "      <td>4--38</td>\n",
       "    </tr>\n",
       "    <tr>\n",
       "      <th>42</th>\n",
       "      <td>43</td>\n",
       "      <td>April 30,2022</td>\n",
       "      <td>Brabourne Stadium, Mumbai</td>\n",
       "      <td>Banglore</td>\n",
       "      <td>Gujarat</td>\n",
       "      <td>Group</td>\n",
       "      <td>Banglore</td>\n",
       "      <td>Bat</td>\n",
       "      <td>170.0</td>\n",
       "      <td>6.0</td>\n",
       "      <td>174.0</td>\n",
       "      <td>4.0</td>\n",
       "      <td>Gujarat</td>\n",
       "      <td>Wickets</td>\n",
       "      <td>6.0</td>\n",
       "      <td>Rahul Tewatia</td>\n",
       "      <td>Virat Kohli</td>\n",
       "      <td>58.0</td>\n",
       "      <td>Pradeep Sangwan</td>\n",
       "      <td>2--19</td>\n",
       "    </tr>\n",
       "    <tr>\n",
       "      <th>43</th>\n",
       "      <td>44</td>\n",
       "      <td>April 30,2022</td>\n",
       "      <td>Dr DY Patil Sports Academy, Mumbai</td>\n",
       "      <td>Mumbai</td>\n",
       "      <td>Rajasthan</td>\n",
       "      <td>Group</td>\n",
       "      <td>Mumbai</td>\n",
       "      <td>Field</td>\n",
       "      <td>158.0</td>\n",
       "      <td>6.0</td>\n",
       "      <td>161.0</td>\n",
       "      <td>5.0</td>\n",
       "      <td>Mumbai</td>\n",
       "      <td>Wickets</td>\n",
       "      <td>5.0</td>\n",
       "      <td>Suruakumar Yadav</td>\n",
       "      <td>Jos Buttler</td>\n",
       "      <td>67.0</td>\n",
       "      <td>Rilley Meredith</td>\n",
       "      <td>2--24</td>\n",
       "    </tr>\n",
       "    <tr>\n",
       "      <th>44</th>\n",
       "      <td>45</td>\n",
       "      <td>May 1,2022</td>\n",
       "      <td>Wankhede Stadium, Mumbai</td>\n",
       "      <td>Delhi</td>\n",
       "      <td>Lucknow</td>\n",
       "      <td>Group</td>\n",
       "      <td>Lucknow</td>\n",
       "      <td>Bat</td>\n",
       "      <td>195.0</td>\n",
       "      <td>3.0</td>\n",
       "      <td>189.0</td>\n",
       "      <td>7.0</td>\n",
       "      <td>Lucknow</td>\n",
       "      <td>Runs</td>\n",
       "      <td>6.0</td>\n",
       "      <td>Mohsin Khan</td>\n",
       "      <td>KL Rahul</td>\n",
       "      <td>77.0</td>\n",
       "      <td>Mohsin Khan</td>\n",
       "      <td>4--16</td>\n",
       "    </tr>\n",
       "    <tr>\n",
       "      <th>45</th>\n",
       "      <td>46</td>\n",
       "      <td>May 1,2022</td>\n",
       "      <td>Maharashtra Cricket Association Stadium,Pune</td>\n",
       "      <td>Chennai</td>\n",
       "      <td>Hyderabad</td>\n",
       "      <td>Group</td>\n",
       "      <td>Hyderabad</td>\n",
       "      <td>Field</td>\n",
       "      <td>202.0</td>\n",
       "      <td>2.0</td>\n",
       "      <td>189.0</td>\n",
       "      <td>6.0</td>\n",
       "      <td>Chennai</td>\n",
       "      <td>Runs</td>\n",
       "      <td>13.0</td>\n",
       "      <td>Ruturaj Gaikwad</td>\n",
       "      <td>Ruturaj Gaikwad</td>\n",
       "      <td>99.0</td>\n",
       "      <td>Mukesh Choudhary</td>\n",
       "      <td>4--46</td>\n",
       "    </tr>\n",
       "    <tr>\n",
       "      <th>46</th>\n",
       "      <td>47</td>\n",
       "      <td>May 2,2022</td>\n",
       "      <td>Wankhede Stadium, Mumbai</td>\n",
       "      <td>Kolkata</td>\n",
       "      <td>Rajasthan</td>\n",
       "      <td>Group</td>\n",
       "      <td>Kolkata</td>\n",
       "      <td>Field</td>\n",
       "      <td>152.0</td>\n",
       "      <td>5.0</td>\n",
       "      <td>158.0</td>\n",
       "      <td>3.0</td>\n",
       "      <td>Kolkata</td>\n",
       "      <td>Wickets</td>\n",
       "      <td>7.0</td>\n",
       "      <td>Rinku Singh</td>\n",
       "      <td>Sanju Samson</td>\n",
       "      <td>54.0</td>\n",
       "      <td>Tim Southee</td>\n",
       "      <td>2--46</td>\n",
       "    </tr>\n",
       "    <tr>\n",
       "      <th>47</th>\n",
       "      <td>48</td>\n",
       "      <td>May 3,2022</td>\n",
       "      <td>Dr DY Patil Sports Academy, Mumbai</td>\n",
       "      <td>Gujarat</td>\n",
       "      <td>Punjab</td>\n",
       "      <td>Group</td>\n",
       "      <td>Gujarat</td>\n",
       "      <td>Bat</td>\n",
       "      <td>143.0</td>\n",
       "      <td>8.0</td>\n",
       "      <td>145.0</td>\n",
       "      <td>2.0</td>\n",
       "      <td>Punjab</td>\n",
       "      <td>Wickets</td>\n",
       "      <td>8.0</td>\n",
       "      <td>Kagiso Rabada</td>\n",
       "      <td>Sai Sudharsan</td>\n",
       "      <td>65.0</td>\n",
       "      <td>Kagiso Rabada</td>\n",
       "      <td>4--33</td>\n",
       "    </tr>\n",
       "    <tr>\n",
       "      <th>48</th>\n",
       "      <td>49</td>\n",
       "      <td>May 4,2022</td>\n",
       "      <td>Maharashtra Cricket Association Stadium,Pune</td>\n",
       "      <td>Banglore</td>\n",
       "      <td>Chennai</td>\n",
       "      <td>Group</td>\n",
       "      <td>Chennai</td>\n",
       "      <td>Field</td>\n",
       "      <td>173.0</td>\n",
       "      <td>8.0</td>\n",
       "      <td>160.0</td>\n",
       "      <td>8.0</td>\n",
       "      <td>Banglore</td>\n",
       "      <td>Runs</td>\n",
       "      <td>13.0</td>\n",
       "      <td>NaN</td>\n",
       "      <td>Devon Conway</td>\n",
       "      <td>56.0</td>\n",
       "      <td>Maheesh Theekshana</td>\n",
       "      <td>3--27</td>\n",
       "    </tr>\n",
       "    <tr>\n",
       "      <th>49</th>\n",
       "      <td>50</td>\n",
       "      <td>May 5,2022</td>\n",
       "      <td>Brabourne Stadium, Mumbai</td>\n",
       "      <td>Delhi</td>\n",
       "      <td>Hyderabad</td>\n",
       "      <td>Group</td>\n",
       "      <td>NaN</td>\n",
       "      <td>NaN</td>\n",
       "      <td>NaN</td>\n",
       "      <td>NaN</td>\n",
       "      <td>NaN</td>\n",
       "      <td>NaN</td>\n",
       "      <td>NaN</td>\n",
       "      <td>NaN</td>\n",
       "      <td>NaN</td>\n",
       "      <td>NaN</td>\n",
       "      <td>NaN</td>\n",
       "      <td>NaN</td>\n",
       "      <td>NaN</td>\n",
       "      <td>NaN</td>\n",
       "    </tr>\n",
       "    <tr>\n",
       "      <th>50</th>\n",
       "      <td>51</td>\n",
       "      <td>May 6,2022</td>\n",
       "      <td>Brabourne Stadium, Mumbai</td>\n",
       "      <td>Gujarat</td>\n",
       "      <td>Mumbai</td>\n",
       "      <td>Group</td>\n",
       "      <td>NaN</td>\n",
       "      <td>NaN</td>\n",
       "      <td>NaN</td>\n",
       "      <td>NaN</td>\n",
       "      <td>NaN</td>\n",
       "      <td>NaN</td>\n",
       "      <td>NaN</td>\n",
       "      <td>NaN</td>\n",
       "      <td>NaN</td>\n",
       "      <td>NaN</td>\n",
       "      <td>NaN</td>\n",
       "      <td>NaN</td>\n",
       "      <td>NaN</td>\n",
       "      <td>NaN</td>\n",
       "    </tr>\n",
       "    <tr>\n",
       "      <th>51</th>\n",
       "      <td>52</td>\n",
       "      <td>May 7,2022</td>\n",
       "      <td>Wankhede Stadium, Mumbai</td>\n",
       "      <td>Punjab</td>\n",
       "      <td>Rajasthan</td>\n",
       "      <td>Group</td>\n",
       "      <td>NaN</td>\n",
       "      <td>NaN</td>\n",
       "      <td>NaN</td>\n",
       "      <td>NaN</td>\n",
       "      <td>NaN</td>\n",
       "      <td>NaN</td>\n",
       "      <td>NaN</td>\n",
       "      <td>NaN</td>\n",
       "      <td>NaN</td>\n",
       "      <td>NaN</td>\n",
       "      <td>NaN</td>\n",
       "      <td>NaN</td>\n",
       "      <td>NaN</td>\n",
       "      <td>NaN</td>\n",
       "    </tr>\n",
       "    <tr>\n",
       "      <th>52</th>\n",
       "      <td>53</td>\n",
       "      <td>May 7,2022</td>\n",
       "      <td>Maharashtra Cricket Association Stadium,Pune</td>\n",
       "      <td>Kolkata</td>\n",
       "      <td>Lucknow</td>\n",
       "      <td>Group</td>\n",
       "      <td>NaN</td>\n",
       "      <td>NaN</td>\n",
       "      <td>NaN</td>\n",
       "      <td>NaN</td>\n",
       "      <td>NaN</td>\n",
       "      <td>NaN</td>\n",
       "      <td>NaN</td>\n",
       "      <td>NaN</td>\n",
       "      <td>NaN</td>\n",
       "      <td>NaN</td>\n",
       "      <td>NaN</td>\n",
       "      <td>NaN</td>\n",
       "      <td>NaN</td>\n",
       "      <td>NaN</td>\n",
       "    </tr>\n",
       "  </tbody>\n",
       "</table>\n",
       "</div>"
      ],
      "text/plain": [
       "    match_id           date                                         venue  \\\n",
       "0          1  March 26,2022                      Wankhede Stadium, Mumbai   \n",
       "1          2  March 27,2022                     Brabourne Stadium, Mumbai   \n",
       "2          3  March 27,2022            Dr DY Patil Sports Academy, Mumbai   \n",
       "3          4  March 28,2022                      Wankhede Stadium, Mumbai   \n",
       "4          5  March 29,2022  Maharashtra Cricket Association Stadium,Pune   \n",
       "5          6  March 30,2022            Dr DY Patil Sports Academy, Mumbai   \n",
       "6          7  March 31,2022                     Brabourne Stadium, Mumbai   \n",
       "7          8   April 1,2022                      Wankhede Stadium, Mumbai   \n",
       "8          9   April 2,2022            Dr DY Patil Sports Academy, Mumbai   \n",
       "9         10   April 2,2022  Maharashtra Cricket Association Stadium,Pune   \n",
       "10        11   April 3,2022                     Brabourne Stadium, Mumbai   \n",
       "11        12   April 4,2022            Dr DY Patil Sports Academy, Mumbai   \n",
       "12        13   April 5,2022                      Wankhede Stadium, Mumbai   \n",
       "13        14   April 6,2022  Maharashtra Cricket Association Stadium,Pune   \n",
       "14        15   April 7,2022            Dr DY Patil Sports Academy, Mumbai   \n",
       "15        16   April 8,2022                     Brabourne Stadium, Mumbai   \n",
       "16        17   April 9,2022            Dr DY Patil Sports Academy, Mumbai   \n",
       "17        18   April 9,2022  Maharashtra Cricket Association Stadium,Pune   \n",
       "18        19  April 10,2022                     Brabourne Stadium, Mumbai   \n",
       "19        20  April 10,2022                      Wankhede Stadium, Mumbai   \n",
       "20        21   April11,2022            Dr DY Patil Sports Academy, Mumbai   \n",
       "21        22  April 12,2022            Dr DY Patil Sports Academy, Mumbai   \n",
       "22        23  April 13,2022  Maharashtra Cricket Association Stadium,Pune   \n",
       "23        24  April 14,2022            Dr DY Patil Sports Academy, Mumbai   \n",
       "24        25  April 15,2022                     Brabourne Stadium, Mumbai   \n",
       "25        26  April 16,2022                     Brabourne Stadium, Mumbai   \n",
       "26        27  April 16,2022                      Wankhede Stadium, Mumbai   \n",
       "27        28  April 17,2022            Dr DY Patil Sports Academy, Mumbai   \n",
       "28        29  April 17,2022  Maharashtra Cricket Association Stadium,Pune   \n",
       "29        30  April 18,2022                     Brabourne Stadium, Mumbai   \n",
       "30        31  April 19,2022            Dr DY Patil Sports Academy, Mumbai   \n",
       "31        32  April 20,2022                     Brabourne Stadium, Mumbai   \n",
       "32        33  April 21,2022            Dr DY Patil Sports Academy, Mumbai   \n",
       "33        34  April 22,2022                      Wankhede Stadium, Mumbai   \n",
       "34        35  April 23,2022            Dr DY Patil Sports Academy, Mumbai   \n",
       "35        36  April 23,2022                     Brabourne Stadium, Mumbai   \n",
       "36        37  April 24,2022                      Wankhede Stadium, Mumbai   \n",
       "37        38  April 25,2022                      Wankhede Stadium, Mumbai   \n",
       "38        39  April 26,2022  Maharashtra Cricket Association Stadium,Pune   \n",
       "39        40  April 27,2022                      Wankhede Stadium, Mumbai   \n",
       "40        41  April 28,2022                      Wankhede Stadium, Mumbai   \n",
       "41        42  April 29,2022  Maharashtra Cricket Association Stadium,Pune   \n",
       "42        43  April 30,2022                     Brabourne Stadium, Mumbai   \n",
       "43        44  April 30,2022            Dr DY Patil Sports Academy, Mumbai   \n",
       "44        45     May 1,2022                      Wankhede Stadium, Mumbai   \n",
       "45        46     May 1,2022  Maharashtra Cricket Association Stadium,Pune   \n",
       "46        47     May 2,2022                      Wankhede Stadium, Mumbai   \n",
       "47        48     May 3,2022            Dr DY Patil Sports Academy, Mumbai   \n",
       "48        49     May 4,2022  Maharashtra Cricket Association Stadium,Pune   \n",
       "49        50     May 5,2022                     Brabourne Stadium, Mumbai   \n",
       "50        51     May 6,2022                     Brabourne Stadium, Mumbai   \n",
       "51        52     May 7,2022                      Wankhede Stadium, Mumbai   \n",
       "52        53     May 7,2022  Maharashtra Cricket Association Stadium,Pune   \n",
       "\n",
       "        team1      team2  stage toss_winner toss_decision  first_ings_score  \\\n",
       "0     Chennai    Kolkata  Group     Kolkata         Field             131.0   \n",
       "1       Delhi     Mumbai  Group       Delhi         Field             177.0   \n",
       "2    Banglore     Punjab  Group      Punjab         Field             205.0   \n",
       "3     Gujarat    Lucknow  Group     Gujarat         Field             158.0   \n",
       "4   Hyderabad  Rajasthan  Group   Hyderabad         Field             210.0   \n",
       "5    Banglore    Kolkata  Group    Banglore         Field             128.0   \n",
       "6     Chennai    Lucknow  Group     Lucknow         Field             210.0   \n",
       "7     Kolkata     Punjab  Group     Kolkata         Field             137.0   \n",
       "8      Mumbai  Rajasthan  Group      Mumbai         Field             193.0   \n",
       "9       Delhi    Gujarat  Group       Delhi         Field             171.0   \n",
       "10    Chennai     Punjab  Group     Chennai         Field             180.0   \n",
       "11  Hyderabad    Lucknow  Group   Hyderabad         Field             169.0   \n",
       "12   Banglore  Rajasthan  Group    Banglore         Field             169.0   \n",
       "13    Kolkata     Mumbai  Group     Kolkata         Field             161.0   \n",
       "14      Delhi    Lucknow  Group     Lucknow         Field             149.0   \n",
       "15    Gujarat     Punjab  Group     Gujarat         Field             189.0   \n",
       "16    Chennai  Hyderabad  Group   Hyderabad         Field             154.0   \n",
       "17   Banglore     Mumbai  Group    Banglore         Field             151.0   \n",
       "18      Delhi    Kolkata  Group     Kolkata         Field             215.0   \n",
       "19    Lucknow  Rajasthan  Group     Lucknow         Field             165.0   \n",
       "20    Gujarat  Hyderabad  Group   Hyderabad         Field             162.0   \n",
       "21   Banglore    Chennai  Group    Banglore         Field             216.0   \n",
       "22     Mumbai     Punjab  Group      Mumbai         Field             198.0   \n",
       "23    Gujarat  Rajasthan  Group   Rajasthan         Field             192.0   \n",
       "24  Hyderabad    Kolkata  Group   Hyderabad         Field             175.0   \n",
       "25    Lucknow     Mumbai  Group      Mumbai         Field             199.0   \n",
       "26   Banglore      Delhi  Group       Delhi         Field             189.0   \n",
       "27  Hyderabad     Punjab  Group   Hyderabad         Field             151.0   \n",
       "28    Chennai    Gujarat  Group     Gujarat         Field             169.0   \n",
       "29    Kolkata  Rajasthan  Group     Kolkata         Field             217.0   \n",
       "30   Banglore    Lucknow  Group     Lucknow         Field             181.0   \n",
       "31      Delhi     Punjab  Group       Delhi         Field             115.0   \n",
       "32    Chennai     Mumbai  Group     Chennai         Field             155.0   \n",
       "33      Delhi  Rajasthan  Group       Delhi         Field             222.0   \n",
       "34    Gujarat    Kolkata  Group     Gujarat           Bat             156.0   \n",
       "35   Banglore  Hyderabad  Group   Hyderabad         Field              68.0   \n",
       "36    Lucknow     Mumbai  Group      Mumbai         Field             168.0   \n",
       "37    Chennai     Punjab  Group     Chennai         Field             187.0   \n",
       "38   Banglore  Rajasthan  Group    Banglore         Field             144.0   \n",
       "39    Gujarat  Hyderabad  Group     Gujarat         Field             195.0   \n",
       "40      Delhi    Kolkata  Group       Delhi         Field             146.0   \n",
       "41    Lucknow     Punjab  Group      Punjab         Field             153.0   \n",
       "42   Banglore    Gujarat  Group    Banglore           Bat             170.0   \n",
       "43     Mumbai  Rajasthan  Group      Mumbai         Field             158.0   \n",
       "44      Delhi    Lucknow  Group     Lucknow           Bat             195.0   \n",
       "45    Chennai  Hyderabad  Group   Hyderabad         Field             202.0   \n",
       "46    Kolkata  Rajasthan  Group     Kolkata         Field             152.0   \n",
       "47    Gujarat     Punjab  Group     Gujarat           Bat             143.0   \n",
       "48   Banglore    Chennai  Group     Chennai         Field             173.0   \n",
       "49      Delhi  Hyderabad  Group         NaN           NaN               NaN   \n",
       "50    Gujarat     Mumbai  Group         NaN           NaN               NaN   \n",
       "51     Punjab  Rajasthan  Group         NaN           NaN               NaN   \n",
       "52    Kolkata    Lucknow  Group         NaN           NaN               NaN   \n",
       "\n",
       "    first_ings_wkts  second_ings_score  second_ings_wkts match_winner  \\\n",
       "0               5.0              133.0               4.0      Kolkata   \n",
       "1               5.0              179.0               6.0        Delhi   \n",
       "2               2.0              208.0               5.0       Punjab   \n",
       "3               6.0              161.0               5.0      Gujarat   \n",
       "4               6.0              149.0               7.0    Rajasthan   \n",
       "5              10.0              132.0               7.0     Banglore   \n",
       "6               7.0              211.0               4.0      Lucknow   \n",
       "7              10.0              141.0               4.0      Kolkata   \n",
       "8               8.0              170.0               8.0    Rajasthan   \n",
       "9               6.0              157.0               9.0      Gujarat   \n",
       "10              8.0              126.0              10.0       Punjab   \n",
       "11              7.0              157.0               9.0      Lucknow   \n",
       "12              3.0              173.0               6.0     Banglore   \n",
       "13              4.0              162.0               5.0      Kolkata   \n",
       "14              3.0              155.0               4.0      Lucknow   \n",
       "15              9.0              190.0               4.0      Gujarat   \n",
       "16              7.0              155.0               2.0    Hyderabad   \n",
       "17              6.0              152.0               3.0     Banglore   \n",
       "18              5.0              171.0              10.0        Delhi   \n",
       "19              6.0              162.0               8.0    Rajasthan   \n",
       "20              7.0              168.0               2.0    Hyderabad   \n",
       "21              4.0              193.0               9.0      Chennai   \n",
       "22              5.0              186.0               9.0       Punjab   \n",
       "23              4.0              155.0               9.0      Gujarat   \n",
       "24              8.0              176.0               3.0    Hyderabad   \n",
       "25              4.0              181.0               9.0      Lucknow   \n",
       "26              5.0              173.0               7.0     Banglore   \n",
       "27             10.0              152.0               3.0    Hyderabad   \n",
       "28              5.0              170.0               7.0      Gujarat   \n",
       "29              5.0              210.0              10.0    Rajasthan   \n",
       "30              6.0              163.0               8.0     Banglore   \n",
       "31             10.0              119.0               1.0        Delhi   \n",
       "32              7.0              156.0               7.0      Chennai   \n",
       "33              2.0              207.0               8.0    Rajasthan   \n",
       "34              9.0              148.0               8.0      Gujarat   \n",
       "35             10.0               72.0               1.0    Hyderabad   \n",
       "36              6.0              132.0               8.0      Lucknow   \n",
       "37              4.0              176.0               6.0       Punjab   \n",
       "38              8.0              115.0              10.0    Rajasthan   \n",
       "39              6.0              199.0               5.0      Gujarat   \n",
       "40              9.0              150.0               6.0        Delhi   \n",
       "41              8.0              133.0               8.0      Lucknow   \n",
       "42              6.0              174.0               4.0      Gujarat   \n",
       "43              6.0              161.0               5.0       Mumbai   \n",
       "44              3.0              189.0               7.0      Lucknow   \n",
       "45              2.0              189.0               6.0      Chennai   \n",
       "46              5.0              158.0               3.0      Kolkata   \n",
       "47              8.0              145.0               2.0       Punjab   \n",
       "48              8.0              160.0               8.0     Banglore   \n",
       "49              NaN                NaN               NaN          NaN   \n",
       "50              NaN                NaN               NaN          NaN   \n",
       "51              NaN                NaN               NaN          NaN   \n",
       "52              NaN                NaN               NaN          NaN   \n",
       "\n",
       "     won_by  margin player_of_the_match           top_scorer  highscore  \\\n",
       "0   Wickets     6.0         Umesh Yadav             MS Dhoni       50.0   \n",
       "1   Wickets     4.0       Kuldeep Yadav         Ishan Kishan       81.0   \n",
       "2   Wickets     5.0         Odean Smith       Faf du Plessis       88.0   \n",
       "3   Wickets     5.0      Mohammed Shami         Deepak Hooda       55.0   \n",
       "4      Runs    61.0        Sanju Samson        Aiden Markram       57.0   \n",
       "5   Wickets     3.0   Wanindu Hasaranga  Sherfane Rutherford       28.0   \n",
       "6   Wickets     6.0          Evin Lewis      Quinton de Kock       61.0   \n",
       "7   Wickets     6.0         Umesh Yadav        Andre Russell       70.0   \n",
       "8      Runs    23.0         Jos Buttler          Jos Buttler      100.0   \n",
       "9      Runs    14.0     Lockie Ferguson         Shubman Gill       84.0   \n",
       "10     Runs    54.0    Liam Livingstone      LiamLivingstone       60.0   \n",
       "11     Runs    12.0          Avesh Khan             KL Rahul       68.0   \n",
       "12  Wickets     4.0      Dinesh Karthik          Jos Buttler       70.0   \n",
       "13  Wickets     5.0         Pat Cummins          Pat Cummins       56.0   \n",
       "14  Wickets     6.0     Quinton de Kock      Quinton de Kock       80.0   \n",
       "15  Wickets     6.0        Shubman Gill         Shubman Gill       96.0   \n",
       "16  Wickets     8.0     Abhishek Sharma      Abhishek Sharma       75.0   \n",
       "17  Wickets     7.0          Anuj Rawat     Suryakumar Yadav       68.0   \n",
       "18     Runs    44.0       Kuldeep Yadav         David Warner       61.0   \n",
       "19     Runs     3.0    Yuzvendra Chahal      Shimron Hetmyer       59.0   \n",
       "20  Wickets     8.0     Kane Williamson      Kane Williamson       57.0   \n",
       "21     Runs    23.0         Shivam Dube          Shivam Dube       95.0   \n",
       "22     Runs    12.0      Mayank Agarwal       Shikhar Dhawan       70.0   \n",
       "23     Runs    37.0       Hardik Pandya        Hardik Pandya       87.0   \n",
       "24  Wickets     7.0      Rahul Tripathi       Rahul Tripathi       71.0   \n",
       "25     Runs    18.0           K L Rahul             KL Rahul      103.0   \n",
       "26     Runs    16.0      Dinesh Karthik       Dinesh Karthik       66.0   \n",
       "27  Wickets     7.0         Umran Malik      LiamLivingstone       60.0   \n",
       "28  Wickets     3.0        David Miller         David Miller       94.0   \n",
       "29     Runs     7.0    Yuzvendra Chahal          Jos Buttler      103.0   \n",
       "30     Runs    18.0      Faf du Plessis       Faf du Plessis       96.0   \n",
       "31  Wickets     9.0       Kuldeep Yadav         David Warner       60.0   \n",
       "32  Wickets     3.0    Mukesh Choudhary          Tilak Varma       51.0   \n",
       "33     Runs    15.0         Jos Buttler          Jos Buttler      116.0   \n",
       "34     Runs     8.0         Rashid Khan        Hardik Pandya       67.0   \n",
       "35  Wickets     9.0        Marco Jansen      Abhishek Sharma       47.0   \n",
       "36     Runs    36.0           K L Rahul             KL Rahul      103.0   \n",
       "37     Runs    11.0      Shikhar Dhawan       Shikhar Dhawan       88.0   \n",
       "38     Runs    29.0         Riyan Parag          Riyan Parag       56.0   \n",
       "39  Wickets     5.0         Umran Malik              W. Saha       68.0   \n",
       "40  Wickets     4.0       Kuldeep Yadav          Nitish Rana       57.0   \n",
       "41     Runs    20.0       Krunal Pandya      Quinton de Kock       46.0   \n",
       "42  Wickets     6.0       Rahul Tewatia          Virat Kohli       58.0   \n",
       "43  Wickets     5.0    Suruakumar Yadav          Jos Buttler       67.0   \n",
       "44     Runs     6.0         Mohsin Khan             KL Rahul       77.0   \n",
       "45     Runs    13.0     Ruturaj Gaikwad      Ruturaj Gaikwad       99.0   \n",
       "46  Wickets     7.0         Rinku Singh         Sanju Samson       54.0   \n",
       "47  Wickets     8.0       Kagiso Rabada        Sai Sudharsan       65.0   \n",
       "48     Runs    13.0                 NaN         Devon Conway       56.0   \n",
       "49      NaN     NaN                 NaN                  NaN        NaN   \n",
       "50      NaN     NaN                 NaN                  NaN        NaN   \n",
       "51      NaN     NaN                 NaN                  NaN        NaN   \n",
       "52      NaN     NaN                 NaN                  NaN        NaN   \n",
       "\n",
       "          best_bowling best_bowling_figure  \n",
       "0         Dwayne Bravo               3--20  \n",
       "1        Kuldeep Yadav               3--18  \n",
       "2       Mohammed Siraj               2--59  \n",
       "3       Mohammed Shami               3--25  \n",
       "4     Yuzvendra Chahal               3--22  \n",
       "5    Wanindu Hasaranga               4--20  \n",
       "6         Ravi Bishnoi               2--24  \n",
       "7          Umesh Yadav               4--23  \n",
       "8       Jasprit Bumrah               3--17  \n",
       "9      Lockie Ferguson               4--28  \n",
       "10        Rahul Chahar               3--25  \n",
       "11          Avesh Khan               4--24  \n",
       "12    Yuzvendra Chahal               2--15  \n",
       "13      Murugan Ashwin               2--25  \n",
       "14        Ravi Bishnoi               2--22  \n",
       "15         Rashid Khan               3--22  \n",
       "16   Washington Sundar               2--21  \n",
       "17       Harshal Patel               2--23  \n",
       "18       Kuldeep Yadav               4--35  \n",
       "19    Yuzvendra Chahal               4--41  \n",
       "20         T Natarajan               2--34  \n",
       "21  Maheesh Theekshana               4--33  \n",
       "22         Odean Smith               4--30  \n",
       "23     Lockie Ferguson               3--23  \n",
       "24         T Natarajan               3--37  \n",
       "25          Avesh Khan               3--30  \n",
       "26      Josh Hazlewood               3--28  \n",
       "27         Umran Malik               4--28  \n",
       "28        Dwayne Bravo               3--23  \n",
       "29    Yuzvendra Chahal               5--40  \n",
       "30      Josh Hazlewood               4--25  \n",
       "31          Axar Patel               2--10  \n",
       "32         Daniel Sams               4--30  \n",
       "33     Prasidh Krishna               3--22  \n",
       "34       Andre Russell                4--5  \n",
       "35         T Natarajan               3--10  \n",
       "36       Krunal Pandya               3--19  \n",
       "37       Kagiso Rabada               2--23  \n",
       "38         Kuldeep Sen               4--20  \n",
       "39         Umran Malik               5--25  \n",
       "40       Kuldeep Yadav               4--14  \n",
       "41       Kagiso Rabada               4--38  \n",
       "42     Pradeep Sangwan               2--19  \n",
       "43     Rilley Meredith               2--24  \n",
       "44         Mohsin Khan               4--16  \n",
       "45    Mukesh Choudhary               4--46  \n",
       "46         Tim Southee               2--46  \n",
       "47       Kagiso Rabada               4--33  \n",
       "48  Maheesh Theekshana               3--27  \n",
       "49                 NaN                 NaN  \n",
       "50                 NaN                 NaN  \n",
       "51                 NaN                 NaN  \n",
       "52                 NaN                 NaN  "
      ]
     },
     "execution_count": 30,
     "metadata": {},
     "output_type": "execute_result"
    }
   ],
   "source": [
    "df = pd.read_csv(\"IPL.csv\")\n",
    "df"
   ]
  },
  {
   "cell_type": "markdown",
   "id": "5531fe6d",
   "metadata": {},
   "source": [
    "# Number of matches won by team in ipl 2022"
   ]
  },
  {
   "cell_type": "code",
   "execution_count": 31,
   "id": "79da178b",
   "metadata": {},
   "outputs": [
    {
     "data": {
      "application/vnd.plotly.v1+json": {
       "config": {
        "plotlyServerURL": "https://plot.ly"
       },
       "data": [
        {
         "hovertemplate": "x=%{x}<br>count=%{y}<extra></extra>",
         "legendgroup": "",
         "marker": {
          "color": "#636efa",
          "pattern": {
           "shape": ""
          }
         },
         "name": "",
         "orientation": "v",
         "showlegend": false,
         "textposition": "auto",
         "type": "bar",
         "x": [
          "Kolkata",
          "Delhi",
          "Punjab",
          "Gujarat",
          "Rajasthan",
          "Banglore",
          "Lucknow",
          "Kolkata",
          "Rajasthan",
          "Gujarat",
          "Punjab",
          "Lucknow",
          "Banglore",
          "Kolkata",
          "Lucknow",
          "Gujarat",
          "Hyderabad",
          "Banglore",
          "Delhi",
          "Rajasthan",
          "Hyderabad",
          "Chennai",
          "Punjab",
          "Gujarat",
          "Hyderabad",
          "Lucknow",
          "Banglore",
          "Hyderabad",
          "Gujarat",
          "Rajasthan",
          "Banglore",
          "Delhi",
          "Chennai",
          "Rajasthan",
          "Gujarat",
          "Hyderabad",
          "Lucknow",
          "Punjab",
          "Rajasthan",
          "Gujarat",
          "Delhi",
          "Lucknow",
          "Gujarat",
          "Mumbai",
          "Lucknow",
          "Chennai",
          "Kolkata",
          "Punjab",
          "Banglore",
          null,
          null,
          null,
          null
         ],
         "xaxis": "x",
         "y": {
          "bdata": "AQEBAQEBAQEBAQEBAQEBAQEBAQEBAQEBAQEBAQEBAQEBAQEBAQEBAQEBAQEBAQEBAQEBAQE=",
          "dtype": "i1"
         },
         "yaxis": "y"
        }
       ],
       "layout": {
        "barmode": "relative",
        "legend": {
         "tracegroupgap": 0
        },
        "template": {
         "data": {
          "bar": [
           {
            "error_x": {
             "color": "#2a3f5f"
            },
            "error_y": {
             "color": "#2a3f5f"
            },
            "marker": {
             "line": {
              "color": "#E5ECF6",
              "width": 0.5
             },
             "pattern": {
              "fillmode": "overlay",
              "size": 10,
              "solidity": 0.2
             }
            },
            "type": "bar"
           }
          ],
          "barpolar": [
           {
            "marker": {
             "line": {
              "color": "#E5ECF6",
              "width": 0.5
             },
             "pattern": {
              "fillmode": "overlay",
              "size": 10,
              "solidity": 0.2
             }
            },
            "type": "barpolar"
           }
          ],
          "carpet": [
           {
            "aaxis": {
             "endlinecolor": "#2a3f5f",
             "gridcolor": "white",
             "linecolor": "white",
             "minorgridcolor": "white",
             "startlinecolor": "#2a3f5f"
            },
            "baxis": {
             "endlinecolor": "#2a3f5f",
             "gridcolor": "white",
             "linecolor": "white",
             "minorgridcolor": "white",
             "startlinecolor": "#2a3f5f"
            },
            "type": "carpet"
           }
          ],
          "choropleth": [
           {
            "colorbar": {
             "outlinewidth": 0,
             "ticks": ""
            },
            "type": "choropleth"
           }
          ],
          "contour": [
           {
            "colorbar": {
             "outlinewidth": 0,
             "ticks": ""
            },
            "colorscale": [
             [
              0,
              "#0d0887"
             ],
             [
              0.1111111111111111,
              "#46039f"
             ],
             [
              0.2222222222222222,
              "#7201a8"
             ],
             [
              0.3333333333333333,
              "#9c179e"
             ],
             [
              0.4444444444444444,
              "#bd3786"
             ],
             [
              0.5555555555555556,
              "#d8576b"
             ],
             [
              0.6666666666666666,
              "#ed7953"
             ],
             [
              0.7777777777777778,
              "#fb9f3a"
             ],
             [
              0.8888888888888888,
              "#fdca26"
             ],
             [
              1,
              "#f0f921"
             ]
            ],
            "type": "contour"
           }
          ],
          "contourcarpet": [
           {
            "colorbar": {
             "outlinewidth": 0,
             "ticks": ""
            },
            "type": "contourcarpet"
           }
          ],
          "heatmap": [
           {
            "colorbar": {
             "outlinewidth": 0,
             "ticks": ""
            },
            "colorscale": [
             [
              0,
              "#0d0887"
             ],
             [
              0.1111111111111111,
              "#46039f"
             ],
             [
              0.2222222222222222,
              "#7201a8"
             ],
             [
              0.3333333333333333,
              "#9c179e"
             ],
             [
              0.4444444444444444,
              "#bd3786"
             ],
             [
              0.5555555555555556,
              "#d8576b"
             ],
             [
              0.6666666666666666,
              "#ed7953"
             ],
             [
              0.7777777777777778,
              "#fb9f3a"
             ],
             [
              0.8888888888888888,
              "#fdca26"
             ],
             [
              1,
              "#f0f921"
             ]
            ],
            "type": "heatmap"
           }
          ],
          "histogram": [
           {
            "marker": {
             "pattern": {
              "fillmode": "overlay",
              "size": 10,
              "solidity": 0.2
             }
            },
            "type": "histogram"
           }
          ],
          "histogram2d": [
           {
            "colorbar": {
             "outlinewidth": 0,
             "ticks": ""
            },
            "colorscale": [
             [
              0,
              "#0d0887"
             ],
             [
              0.1111111111111111,
              "#46039f"
             ],
             [
              0.2222222222222222,
              "#7201a8"
             ],
             [
              0.3333333333333333,
              "#9c179e"
             ],
             [
              0.4444444444444444,
              "#bd3786"
             ],
             [
              0.5555555555555556,
              "#d8576b"
             ],
             [
              0.6666666666666666,
              "#ed7953"
             ],
             [
              0.7777777777777778,
              "#fb9f3a"
             ],
             [
              0.8888888888888888,
              "#fdca26"
             ],
             [
              1,
              "#f0f921"
             ]
            ],
            "type": "histogram2d"
           }
          ],
          "histogram2dcontour": [
           {
            "colorbar": {
             "outlinewidth": 0,
             "ticks": ""
            },
            "colorscale": [
             [
              0,
              "#0d0887"
             ],
             [
              0.1111111111111111,
              "#46039f"
             ],
             [
              0.2222222222222222,
              "#7201a8"
             ],
             [
              0.3333333333333333,
              "#9c179e"
             ],
             [
              0.4444444444444444,
              "#bd3786"
             ],
             [
              0.5555555555555556,
              "#d8576b"
             ],
             [
              0.6666666666666666,
              "#ed7953"
             ],
             [
              0.7777777777777778,
              "#fb9f3a"
             ],
             [
              0.8888888888888888,
              "#fdca26"
             ],
             [
              1,
              "#f0f921"
             ]
            ],
            "type": "histogram2dcontour"
           }
          ],
          "mesh3d": [
           {
            "colorbar": {
             "outlinewidth": 0,
             "ticks": ""
            },
            "type": "mesh3d"
           }
          ],
          "parcoords": [
           {
            "line": {
             "colorbar": {
              "outlinewidth": 0,
              "ticks": ""
             }
            },
            "type": "parcoords"
           }
          ],
          "pie": [
           {
            "automargin": true,
            "type": "pie"
           }
          ],
          "scatter": [
           {
            "fillpattern": {
             "fillmode": "overlay",
             "size": 10,
             "solidity": 0.2
            },
            "type": "scatter"
           }
          ],
          "scatter3d": [
           {
            "line": {
             "colorbar": {
              "outlinewidth": 0,
              "ticks": ""
             }
            },
            "marker": {
             "colorbar": {
              "outlinewidth": 0,
              "ticks": ""
             }
            },
            "type": "scatter3d"
           }
          ],
          "scattercarpet": [
           {
            "marker": {
             "colorbar": {
              "outlinewidth": 0,
              "ticks": ""
             }
            },
            "type": "scattercarpet"
           }
          ],
          "scattergeo": [
           {
            "marker": {
             "colorbar": {
              "outlinewidth": 0,
              "ticks": ""
             }
            },
            "type": "scattergeo"
           }
          ],
          "scattergl": [
           {
            "marker": {
             "colorbar": {
              "outlinewidth": 0,
              "ticks": ""
             }
            },
            "type": "scattergl"
           }
          ],
          "scattermap": [
           {
            "marker": {
             "colorbar": {
              "outlinewidth": 0,
              "ticks": ""
             }
            },
            "type": "scattermap"
           }
          ],
          "scattermapbox": [
           {
            "marker": {
             "colorbar": {
              "outlinewidth": 0,
              "ticks": ""
             }
            },
            "type": "scattermapbox"
           }
          ],
          "scatterpolar": [
           {
            "marker": {
             "colorbar": {
              "outlinewidth": 0,
              "ticks": ""
             }
            },
            "type": "scatterpolar"
           }
          ],
          "scatterpolargl": [
           {
            "marker": {
             "colorbar": {
              "outlinewidth": 0,
              "ticks": ""
             }
            },
            "type": "scatterpolargl"
           }
          ],
          "scatterternary": [
           {
            "marker": {
             "colorbar": {
              "outlinewidth": 0,
              "ticks": ""
             }
            },
            "type": "scatterternary"
           }
          ],
          "surface": [
           {
            "colorbar": {
             "outlinewidth": 0,
             "ticks": ""
            },
            "colorscale": [
             [
              0,
              "#0d0887"
             ],
             [
              0.1111111111111111,
              "#46039f"
             ],
             [
              0.2222222222222222,
              "#7201a8"
             ],
             [
              0.3333333333333333,
              "#9c179e"
             ],
             [
              0.4444444444444444,
              "#bd3786"
             ],
             [
              0.5555555555555556,
              "#d8576b"
             ],
             [
              0.6666666666666666,
              "#ed7953"
             ],
             [
              0.7777777777777778,
              "#fb9f3a"
             ],
             [
              0.8888888888888888,
              "#fdca26"
             ],
             [
              1,
              "#f0f921"
             ]
            ],
            "type": "surface"
           }
          ],
          "table": [
           {
            "cells": {
             "fill": {
              "color": "#EBF0F8"
             },
             "line": {
              "color": "white"
             }
            },
            "header": {
             "fill": {
              "color": "#C8D4E3"
             },
             "line": {
              "color": "white"
             }
            },
            "type": "table"
           }
          ]
         },
         "layout": {
          "annotationdefaults": {
           "arrowcolor": "#2a3f5f",
           "arrowhead": 0,
           "arrowwidth": 1
          },
          "autotypenumbers": "strict",
          "coloraxis": {
           "colorbar": {
            "outlinewidth": 0,
            "ticks": ""
           }
          },
          "colorscale": {
           "diverging": [
            [
             0,
             "#8e0152"
            ],
            [
             0.1,
             "#c51b7d"
            ],
            [
             0.2,
             "#de77ae"
            ],
            [
             0.3,
             "#f1b6da"
            ],
            [
             0.4,
             "#fde0ef"
            ],
            [
             0.5,
             "#f7f7f7"
            ],
            [
             0.6,
             "#e6f5d0"
            ],
            [
             0.7,
             "#b8e186"
            ],
            [
             0.8,
             "#7fbc41"
            ],
            [
             0.9,
             "#4d9221"
            ],
            [
             1,
             "#276419"
            ]
           ],
           "sequential": [
            [
             0,
             "#0d0887"
            ],
            [
             0.1111111111111111,
             "#46039f"
            ],
            [
             0.2222222222222222,
             "#7201a8"
            ],
            [
             0.3333333333333333,
             "#9c179e"
            ],
            [
             0.4444444444444444,
             "#bd3786"
            ],
            [
             0.5555555555555556,
             "#d8576b"
            ],
            [
             0.6666666666666666,
             "#ed7953"
            ],
            [
             0.7777777777777778,
             "#fb9f3a"
            ],
            [
             0.8888888888888888,
             "#fdca26"
            ],
            [
             1,
             "#f0f921"
            ]
           ],
           "sequentialminus": [
            [
             0,
             "#0d0887"
            ],
            [
             0.1111111111111111,
             "#46039f"
            ],
            [
             0.2222222222222222,
             "#7201a8"
            ],
            [
             0.3333333333333333,
             "#9c179e"
            ],
            [
             0.4444444444444444,
             "#bd3786"
            ],
            [
             0.5555555555555556,
             "#d8576b"
            ],
            [
             0.6666666666666666,
             "#ed7953"
            ],
            [
             0.7777777777777778,
             "#fb9f3a"
            ],
            [
             0.8888888888888888,
             "#fdca26"
            ],
            [
             1,
             "#f0f921"
            ]
           ]
          },
          "colorway": [
           "#636efa",
           "#EF553B",
           "#00cc96",
           "#ab63fa",
           "#FFA15A",
           "#19d3f3",
           "#FF6692",
           "#B6E880",
           "#FF97FF",
           "#FECB52"
          ],
          "font": {
           "color": "#2a3f5f"
          },
          "geo": {
           "bgcolor": "white",
           "lakecolor": "white",
           "landcolor": "#E5ECF6",
           "showlakes": true,
           "showland": true,
           "subunitcolor": "white"
          },
          "hoverlabel": {
           "align": "left"
          },
          "hovermode": "closest",
          "mapbox": {
           "style": "light"
          },
          "paper_bgcolor": "white",
          "plot_bgcolor": "#E5ECF6",
          "polar": {
           "angularaxis": {
            "gridcolor": "white",
            "linecolor": "white",
            "ticks": ""
           },
           "bgcolor": "#E5ECF6",
           "radialaxis": {
            "gridcolor": "white",
            "linecolor": "white",
            "ticks": ""
           }
          },
          "scene": {
           "xaxis": {
            "backgroundcolor": "#E5ECF6",
            "gridcolor": "white",
            "gridwidth": 2,
            "linecolor": "white",
            "showbackground": true,
            "ticks": "",
            "zerolinecolor": "white"
           },
           "yaxis": {
            "backgroundcolor": "#E5ECF6",
            "gridcolor": "white",
            "gridwidth": 2,
            "linecolor": "white",
            "showbackground": true,
            "ticks": "",
            "zerolinecolor": "white"
           },
           "zaxis": {
            "backgroundcolor": "#E5ECF6",
            "gridcolor": "white",
            "gridwidth": 2,
            "linecolor": "white",
            "showbackground": true,
            "ticks": "",
            "zerolinecolor": "white"
           }
          },
          "shapedefaults": {
           "line": {
            "color": "#2a3f5f"
           }
          },
          "ternary": {
           "aaxis": {
            "gridcolor": "white",
            "linecolor": "white",
            "ticks": ""
           },
           "baxis": {
            "gridcolor": "white",
            "linecolor": "white",
            "ticks": ""
           },
           "bgcolor": "#E5ECF6",
           "caxis": {
            "gridcolor": "white",
            "linecolor": "white",
            "ticks": ""
           }
          },
          "title": {
           "x": 0.05
          },
          "xaxis": {
           "automargin": true,
           "gridcolor": "white",
           "linecolor": "white",
           "ticks": "",
           "title": {
            "standoff": 15
           },
           "zerolinecolor": "white",
           "zerolinewidth": 2
          },
          "yaxis": {
           "automargin": true,
           "gridcolor": "white",
           "linecolor": "white",
           "ticks": "",
           "title": {
            "standoff": 15
           },
           "zerolinecolor": "white",
           "zerolinewidth": 2
          }
         }
        },
        "title": {
         "text": "Number of matches won in ipl 2022"
        },
        "xaxis": {
         "anchor": "y",
         "domain": [
          0,
          1
         ],
         "title": {
          "text": "x"
         }
        },
        "yaxis": {
         "anchor": "x",
         "domain": [
          0,
          1
         ],
         "title": {
          "text": "count"
         }
        }
       }
      }
     },
     "metadata": {},
     "output_type": "display_data"
    }
   ],
   "source": [
    "fig = px.bar(data_frame=df,x=df[\"match_winner\"],title=\"Number of matches won in ipl 2022\")\n",
    "fig.show()"
   ]
  },
  {
   "cell_type": "markdown",
   "id": "8ee4d26f",
   "metadata": {},
   "source": [
    "# we want best bowler in ipl 2022"
   ]
  },
  {
   "cell_type": "code",
   "execution_count": 32,
   "id": "baa2ffe5",
   "metadata": {},
   "outputs": [
    {
     "data": {
      "application/vnd.plotly.v1+json": {
       "config": {
        "plotlyServerURL": "https://plot.ly"
       },
       "data": [
        {
         "hovertemplate": "x=%{x}<br>count=%{y}<extra></extra>",
         "legendgroup": "",
         "marker": {
          "color": "#636efa",
          "pattern": {
           "shape": ""
          }
         },
         "name": "",
         "orientation": "v",
         "showlegend": false,
         "textposition": "auto",
         "type": "bar",
         "x": [
          "Dwayne Bravo",
          "Kuldeep Yadav",
          "Mohammed Siraj",
          "Mohammed Shami",
          "Yuzvendra Chahal",
          "Wanindu Hasaranga",
          "Ravi Bishnoi",
          "Umesh Yadav",
          "Jasprit Bumrah",
          "Lockie Ferguson",
          "Rahul Chahar",
          "Avesh Khan",
          "Yuzvendra Chahal",
          "Murugan Ashwin",
          "Ravi Bishnoi",
          "Rashid Khan",
          "Washington Sundar",
          "Harshal Patel",
          "Kuldeep Yadav",
          "Yuzvendra Chahal",
          "T Natarajan",
          "Maheesh Theekshana",
          "Odean Smith",
          "Lockie Ferguson",
          "T Natarajan",
          "Avesh Khan",
          "Josh Hazlewood",
          "Umran Malik",
          "Dwayne Bravo",
          "Yuzvendra Chahal",
          "Josh Hazlewood",
          "Axar Patel",
          "Daniel Sams",
          "Prasidh Krishna",
          "Andre Russell",
          "T Natarajan",
          "Krunal Pandya",
          "Kagiso Rabada",
          "Kuldeep Sen",
          "Umran Malik",
          "Kuldeep Yadav",
          "Kagiso Rabada",
          "Pradeep Sangwan",
          "Rilley Meredith",
          "Mohsin Khan",
          "Mukesh Choudhary",
          "Tim Southee",
          "Kagiso Rabada",
          "Maheesh Theekshana",
          null,
          null,
          null,
          null
         ],
         "xaxis": "x",
         "y": {
          "bdata": "AQEBAQEBAQEBAQEBAQEBAQEBAQEBAQEBAQEBAQEBAQEBAQEBAQEBAQEBAQEBAQEBAQEBAQE=",
          "dtype": "i1"
         },
         "yaxis": "y"
        }
       ],
       "layout": {
        "barmode": "relative",
        "legend": {
         "tracegroupgap": 0
        },
        "template": {
         "data": {
          "bar": [
           {
            "error_x": {
             "color": "#2a3f5f"
            },
            "error_y": {
             "color": "#2a3f5f"
            },
            "marker": {
             "line": {
              "color": "#E5ECF6",
              "width": 0.5
             },
             "pattern": {
              "fillmode": "overlay",
              "size": 10,
              "solidity": 0.2
             }
            },
            "type": "bar"
           }
          ],
          "barpolar": [
           {
            "marker": {
             "line": {
              "color": "#E5ECF6",
              "width": 0.5
             },
             "pattern": {
              "fillmode": "overlay",
              "size": 10,
              "solidity": 0.2
             }
            },
            "type": "barpolar"
           }
          ],
          "carpet": [
           {
            "aaxis": {
             "endlinecolor": "#2a3f5f",
             "gridcolor": "white",
             "linecolor": "white",
             "minorgridcolor": "white",
             "startlinecolor": "#2a3f5f"
            },
            "baxis": {
             "endlinecolor": "#2a3f5f",
             "gridcolor": "white",
             "linecolor": "white",
             "minorgridcolor": "white",
             "startlinecolor": "#2a3f5f"
            },
            "type": "carpet"
           }
          ],
          "choropleth": [
           {
            "colorbar": {
             "outlinewidth": 0,
             "ticks": ""
            },
            "type": "choropleth"
           }
          ],
          "contour": [
           {
            "colorbar": {
             "outlinewidth": 0,
             "ticks": ""
            },
            "colorscale": [
             [
              0,
              "#0d0887"
             ],
             [
              0.1111111111111111,
              "#46039f"
             ],
             [
              0.2222222222222222,
              "#7201a8"
             ],
             [
              0.3333333333333333,
              "#9c179e"
             ],
             [
              0.4444444444444444,
              "#bd3786"
             ],
             [
              0.5555555555555556,
              "#d8576b"
             ],
             [
              0.6666666666666666,
              "#ed7953"
             ],
             [
              0.7777777777777778,
              "#fb9f3a"
             ],
             [
              0.8888888888888888,
              "#fdca26"
             ],
             [
              1,
              "#f0f921"
             ]
            ],
            "type": "contour"
           }
          ],
          "contourcarpet": [
           {
            "colorbar": {
             "outlinewidth": 0,
             "ticks": ""
            },
            "type": "contourcarpet"
           }
          ],
          "heatmap": [
           {
            "colorbar": {
             "outlinewidth": 0,
             "ticks": ""
            },
            "colorscale": [
             [
              0,
              "#0d0887"
             ],
             [
              0.1111111111111111,
              "#46039f"
             ],
             [
              0.2222222222222222,
              "#7201a8"
             ],
             [
              0.3333333333333333,
              "#9c179e"
             ],
             [
              0.4444444444444444,
              "#bd3786"
             ],
             [
              0.5555555555555556,
              "#d8576b"
             ],
             [
              0.6666666666666666,
              "#ed7953"
             ],
             [
              0.7777777777777778,
              "#fb9f3a"
             ],
             [
              0.8888888888888888,
              "#fdca26"
             ],
             [
              1,
              "#f0f921"
             ]
            ],
            "type": "heatmap"
           }
          ],
          "histogram": [
           {
            "marker": {
             "pattern": {
              "fillmode": "overlay",
              "size": 10,
              "solidity": 0.2
             }
            },
            "type": "histogram"
           }
          ],
          "histogram2d": [
           {
            "colorbar": {
             "outlinewidth": 0,
             "ticks": ""
            },
            "colorscale": [
             [
              0,
              "#0d0887"
             ],
             [
              0.1111111111111111,
              "#46039f"
             ],
             [
              0.2222222222222222,
              "#7201a8"
             ],
             [
              0.3333333333333333,
              "#9c179e"
             ],
             [
              0.4444444444444444,
              "#bd3786"
             ],
             [
              0.5555555555555556,
              "#d8576b"
             ],
             [
              0.6666666666666666,
              "#ed7953"
             ],
             [
              0.7777777777777778,
              "#fb9f3a"
             ],
             [
              0.8888888888888888,
              "#fdca26"
             ],
             [
              1,
              "#f0f921"
             ]
            ],
            "type": "histogram2d"
           }
          ],
          "histogram2dcontour": [
           {
            "colorbar": {
             "outlinewidth": 0,
             "ticks": ""
            },
            "colorscale": [
             [
              0,
              "#0d0887"
             ],
             [
              0.1111111111111111,
              "#46039f"
             ],
             [
              0.2222222222222222,
              "#7201a8"
             ],
             [
              0.3333333333333333,
              "#9c179e"
             ],
             [
              0.4444444444444444,
              "#bd3786"
             ],
             [
              0.5555555555555556,
              "#d8576b"
             ],
             [
              0.6666666666666666,
              "#ed7953"
             ],
             [
              0.7777777777777778,
              "#fb9f3a"
             ],
             [
              0.8888888888888888,
              "#fdca26"
             ],
             [
              1,
              "#f0f921"
             ]
            ],
            "type": "histogram2dcontour"
           }
          ],
          "mesh3d": [
           {
            "colorbar": {
             "outlinewidth": 0,
             "ticks": ""
            },
            "type": "mesh3d"
           }
          ],
          "parcoords": [
           {
            "line": {
             "colorbar": {
              "outlinewidth": 0,
              "ticks": ""
             }
            },
            "type": "parcoords"
           }
          ],
          "pie": [
           {
            "automargin": true,
            "type": "pie"
           }
          ],
          "scatter": [
           {
            "fillpattern": {
             "fillmode": "overlay",
             "size": 10,
             "solidity": 0.2
            },
            "type": "scatter"
           }
          ],
          "scatter3d": [
           {
            "line": {
             "colorbar": {
              "outlinewidth": 0,
              "ticks": ""
             }
            },
            "marker": {
             "colorbar": {
              "outlinewidth": 0,
              "ticks": ""
             }
            },
            "type": "scatter3d"
           }
          ],
          "scattercarpet": [
           {
            "marker": {
             "colorbar": {
              "outlinewidth": 0,
              "ticks": ""
             }
            },
            "type": "scattercarpet"
           }
          ],
          "scattergeo": [
           {
            "marker": {
             "colorbar": {
              "outlinewidth": 0,
              "ticks": ""
             }
            },
            "type": "scattergeo"
           }
          ],
          "scattergl": [
           {
            "marker": {
             "colorbar": {
              "outlinewidth": 0,
              "ticks": ""
             }
            },
            "type": "scattergl"
           }
          ],
          "scattermap": [
           {
            "marker": {
             "colorbar": {
              "outlinewidth": 0,
              "ticks": ""
             }
            },
            "type": "scattermap"
           }
          ],
          "scattermapbox": [
           {
            "marker": {
             "colorbar": {
              "outlinewidth": 0,
              "ticks": ""
             }
            },
            "type": "scattermapbox"
           }
          ],
          "scatterpolar": [
           {
            "marker": {
             "colorbar": {
              "outlinewidth": 0,
              "ticks": ""
             }
            },
            "type": "scatterpolar"
           }
          ],
          "scatterpolargl": [
           {
            "marker": {
             "colorbar": {
              "outlinewidth": 0,
              "ticks": ""
             }
            },
            "type": "scatterpolargl"
           }
          ],
          "scatterternary": [
           {
            "marker": {
             "colorbar": {
              "outlinewidth": 0,
              "ticks": ""
             }
            },
            "type": "scatterternary"
           }
          ],
          "surface": [
           {
            "colorbar": {
             "outlinewidth": 0,
             "ticks": ""
            },
            "colorscale": [
             [
              0,
              "#0d0887"
             ],
             [
              0.1111111111111111,
              "#46039f"
             ],
             [
              0.2222222222222222,
              "#7201a8"
             ],
             [
              0.3333333333333333,
              "#9c179e"
             ],
             [
              0.4444444444444444,
              "#bd3786"
             ],
             [
              0.5555555555555556,
              "#d8576b"
             ],
             [
              0.6666666666666666,
              "#ed7953"
             ],
             [
              0.7777777777777778,
              "#fb9f3a"
             ],
             [
              0.8888888888888888,
              "#fdca26"
             ],
             [
              1,
              "#f0f921"
             ]
            ],
            "type": "surface"
           }
          ],
          "table": [
           {
            "cells": {
             "fill": {
              "color": "#EBF0F8"
             },
             "line": {
              "color": "white"
             }
            },
            "header": {
             "fill": {
              "color": "#C8D4E3"
             },
             "line": {
              "color": "white"
             }
            },
            "type": "table"
           }
          ]
         },
         "layout": {
          "annotationdefaults": {
           "arrowcolor": "#2a3f5f",
           "arrowhead": 0,
           "arrowwidth": 1
          },
          "autotypenumbers": "strict",
          "coloraxis": {
           "colorbar": {
            "outlinewidth": 0,
            "ticks": ""
           }
          },
          "colorscale": {
           "diverging": [
            [
             0,
             "#8e0152"
            ],
            [
             0.1,
             "#c51b7d"
            ],
            [
             0.2,
             "#de77ae"
            ],
            [
             0.3,
             "#f1b6da"
            ],
            [
             0.4,
             "#fde0ef"
            ],
            [
             0.5,
             "#f7f7f7"
            ],
            [
             0.6,
             "#e6f5d0"
            ],
            [
             0.7,
             "#b8e186"
            ],
            [
             0.8,
             "#7fbc41"
            ],
            [
             0.9,
             "#4d9221"
            ],
            [
             1,
             "#276419"
            ]
           ],
           "sequential": [
            [
             0,
             "#0d0887"
            ],
            [
             0.1111111111111111,
             "#46039f"
            ],
            [
             0.2222222222222222,
             "#7201a8"
            ],
            [
             0.3333333333333333,
             "#9c179e"
            ],
            [
             0.4444444444444444,
             "#bd3786"
            ],
            [
             0.5555555555555556,
             "#d8576b"
            ],
            [
             0.6666666666666666,
             "#ed7953"
            ],
            [
             0.7777777777777778,
             "#fb9f3a"
            ],
            [
             0.8888888888888888,
             "#fdca26"
            ],
            [
             1,
             "#f0f921"
            ]
           ],
           "sequentialminus": [
            [
             0,
             "#0d0887"
            ],
            [
             0.1111111111111111,
             "#46039f"
            ],
            [
             0.2222222222222222,
             "#7201a8"
            ],
            [
             0.3333333333333333,
             "#9c179e"
            ],
            [
             0.4444444444444444,
             "#bd3786"
            ],
            [
             0.5555555555555556,
             "#d8576b"
            ],
            [
             0.6666666666666666,
             "#ed7953"
            ],
            [
             0.7777777777777778,
             "#fb9f3a"
            ],
            [
             0.8888888888888888,
             "#fdca26"
            ],
            [
             1,
             "#f0f921"
            ]
           ]
          },
          "colorway": [
           "#636efa",
           "#EF553B",
           "#00cc96",
           "#ab63fa",
           "#FFA15A",
           "#19d3f3",
           "#FF6692",
           "#B6E880",
           "#FF97FF",
           "#FECB52"
          ],
          "font": {
           "color": "#2a3f5f"
          },
          "geo": {
           "bgcolor": "white",
           "lakecolor": "white",
           "landcolor": "#E5ECF6",
           "showlakes": true,
           "showland": true,
           "subunitcolor": "white"
          },
          "hoverlabel": {
           "align": "left"
          },
          "hovermode": "closest",
          "mapbox": {
           "style": "light"
          },
          "paper_bgcolor": "white",
          "plot_bgcolor": "#E5ECF6",
          "polar": {
           "angularaxis": {
            "gridcolor": "white",
            "linecolor": "white",
            "ticks": ""
           },
           "bgcolor": "#E5ECF6",
           "radialaxis": {
            "gridcolor": "white",
            "linecolor": "white",
            "ticks": ""
           }
          },
          "scene": {
           "xaxis": {
            "backgroundcolor": "#E5ECF6",
            "gridcolor": "white",
            "gridwidth": 2,
            "linecolor": "white",
            "showbackground": true,
            "ticks": "",
            "zerolinecolor": "white"
           },
           "yaxis": {
            "backgroundcolor": "#E5ECF6",
            "gridcolor": "white",
            "gridwidth": 2,
            "linecolor": "white",
            "showbackground": true,
            "ticks": "",
            "zerolinecolor": "white"
           },
           "zaxis": {
            "backgroundcolor": "#E5ECF6",
            "gridcolor": "white",
            "gridwidth": 2,
            "linecolor": "white",
            "showbackground": true,
            "ticks": "",
            "zerolinecolor": "white"
           }
          },
          "shapedefaults": {
           "line": {
            "color": "#2a3f5f"
           }
          },
          "ternary": {
           "aaxis": {
            "gridcolor": "white",
            "linecolor": "white",
            "ticks": ""
           },
           "baxis": {
            "gridcolor": "white",
            "linecolor": "white",
            "ticks": ""
           },
           "bgcolor": "#E5ECF6",
           "caxis": {
            "gridcolor": "white",
            "linecolor": "white",
            "ticks": ""
           }
          },
          "title": {
           "x": 0.05
          },
          "xaxis": {
           "automargin": true,
           "gridcolor": "white",
           "linecolor": "white",
           "ticks": "",
           "title": {
            "standoff": 15
           },
           "zerolinecolor": "white",
           "zerolinewidth": 2
          },
          "yaxis": {
           "automargin": true,
           "gridcolor": "white",
           "linecolor": "white",
           "ticks": "",
           "title": {
            "standoff": 15
           },
           "zerolinecolor": "white",
           "zerolinewidth": 2
          }
         }
        },
        "title": {
         "text": "Best Bowler of ipl 2022"
        },
        "xaxis": {
         "anchor": "y",
         "domain": [
          0,
          1
         ],
         "title": {
          "text": "x"
         }
        },
        "yaxis": {
         "anchor": "x",
         "domain": [
          0,
          1
         ],
         "title": {
          "text": "count"
         }
        }
       }
      }
     },
     "metadata": {},
     "output_type": "display_data"
    }
   ],
   "source": [
    "fig = px.bar(df,x=df[\"best_bowling\"],title=\"Best Bowler of ipl 2022\")\n",
    "fig.show()"
   ]
  },
  {
   "cell_type": "markdown",
   "id": "8b5cd3e7",
   "metadata": {},
   "source": [
    "# who wons player of the match more times"
   ]
  },
  {
   "cell_type": "code",
   "execution_count": 33,
   "id": "97879a35",
   "metadata": {},
   "outputs": [
    {
     "data": {
      "application/vnd.plotly.v1+json": {
       "config": {
        "plotlyServerURL": "https://plot.ly"
       },
       "data": [
        {
         "hovertemplate": "variable=player_of_the_match<br>count=%{x}<br>value=%{y}<extra></extra>",
         "legendgroup": "player_of_the_match",
         "marker": {
          "color": "#636efa",
          "pattern": {
           "shape": ""
          }
         },
         "name": "player_of_the_match",
         "orientation": "h",
         "showlegend": true,
         "textposition": "auto",
         "type": "bar",
         "x": {
          "bdata": "AQEBAQEBAQEBAQEBAQEBAQEBAQEBAQEBAQEBAQEBAQEBAQEBAQEBAQEBAQEBAQEBAQEBAQE=",
          "dtype": "i1"
         },
         "xaxis": "x",
         "y": [
          "Umesh Yadav",
          "Kuldeep Yadav",
          "Odean Smith",
          "Mohammed Shami",
          "Sanju Samson",
          "Wanindu Hasaranga",
          "Evin Lewis",
          "Umesh Yadav",
          "Jos Buttler",
          "Lockie Ferguson",
          "Liam Livingstone",
          "Avesh Khan",
          "Dinesh Karthik",
          "Pat Cummins",
          "Quinton de Kock",
          "Shubman Gill",
          "Abhishek Sharma",
          "Anuj Rawat",
          "Kuldeep Yadav",
          "Yuzvendra Chahal",
          "Kane Williamson",
          "Shivam Dube",
          "Mayank Agarwal",
          "Hardik Pandya",
          "Rahul Tripathi",
          "K L Rahul",
          "Dinesh Karthik",
          "Umran Malik",
          "David Miller",
          "Yuzvendra Chahal",
          "Faf du Plessis",
          "Kuldeep Yadav",
          "Mukesh Choudhary",
          "Jos Buttler",
          "Rashid Khan",
          "Marco Jansen",
          "K L Rahul",
          "Shikhar Dhawan",
          "Riyan Parag",
          "Umran Malik",
          "Kuldeep Yadav",
          "Krunal Pandya",
          "Rahul Tewatia",
          "Suruakumar Yadav",
          "Mohsin Khan",
          "Ruturaj Gaikwad",
          "Rinku Singh",
          "Kagiso Rabada",
          null,
          null,
          null,
          null,
          null
         ],
         "yaxis": "y"
        }
       ],
       "layout": {
        "barmode": "relative",
        "legend": {
         "title": {
          "text": "variable"
         },
         "tracegroupgap": 0
        },
        "template": {
         "data": {
          "bar": [
           {
            "error_x": {
             "color": "#2a3f5f"
            },
            "error_y": {
             "color": "#2a3f5f"
            },
            "marker": {
             "line": {
              "color": "#E5ECF6",
              "width": 0.5
             },
             "pattern": {
              "fillmode": "overlay",
              "size": 10,
              "solidity": 0.2
             }
            },
            "type": "bar"
           }
          ],
          "barpolar": [
           {
            "marker": {
             "line": {
              "color": "#E5ECF6",
              "width": 0.5
             },
             "pattern": {
              "fillmode": "overlay",
              "size": 10,
              "solidity": 0.2
             }
            },
            "type": "barpolar"
           }
          ],
          "carpet": [
           {
            "aaxis": {
             "endlinecolor": "#2a3f5f",
             "gridcolor": "white",
             "linecolor": "white",
             "minorgridcolor": "white",
             "startlinecolor": "#2a3f5f"
            },
            "baxis": {
             "endlinecolor": "#2a3f5f",
             "gridcolor": "white",
             "linecolor": "white",
             "minorgridcolor": "white",
             "startlinecolor": "#2a3f5f"
            },
            "type": "carpet"
           }
          ],
          "choropleth": [
           {
            "colorbar": {
             "outlinewidth": 0,
             "ticks": ""
            },
            "type": "choropleth"
           }
          ],
          "contour": [
           {
            "colorbar": {
             "outlinewidth": 0,
             "ticks": ""
            },
            "colorscale": [
             [
              0,
              "#0d0887"
             ],
             [
              0.1111111111111111,
              "#46039f"
             ],
             [
              0.2222222222222222,
              "#7201a8"
             ],
             [
              0.3333333333333333,
              "#9c179e"
             ],
             [
              0.4444444444444444,
              "#bd3786"
             ],
             [
              0.5555555555555556,
              "#d8576b"
             ],
             [
              0.6666666666666666,
              "#ed7953"
             ],
             [
              0.7777777777777778,
              "#fb9f3a"
             ],
             [
              0.8888888888888888,
              "#fdca26"
             ],
             [
              1,
              "#f0f921"
             ]
            ],
            "type": "contour"
           }
          ],
          "contourcarpet": [
           {
            "colorbar": {
             "outlinewidth": 0,
             "ticks": ""
            },
            "type": "contourcarpet"
           }
          ],
          "heatmap": [
           {
            "colorbar": {
             "outlinewidth": 0,
             "ticks": ""
            },
            "colorscale": [
             [
              0,
              "#0d0887"
             ],
             [
              0.1111111111111111,
              "#46039f"
             ],
             [
              0.2222222222222222,
              "#7201a8"
             ],
             [
              0.3333333333333333,
              "#9c179e"
             ],
             [
              0.4444444444444444,
              "#bd3786"
             ],
             [
              0.5555555555555556,
              "#d8576b"
             ],
             [
              0.6666666666666666,
              "#ed7953"
             ],
             [
              0.7777777777777778,
              "#fb9f3a"
             ],
             [
              0.8888888888888888,
              "#fdca26"
             ],
             [
              1,
              "#f0f921"
             ]
            ],
            "type": "heatmap"
           }
          ],
          "histogram": [
           {
            "marker": {
             "pattern": {
              "fillmode": "overlay",
              "size": 10,
              "solidity": 0.2
             }
            },
            "type": "histogram"
           }
          ],
          "histogram2d": [
           {
            "colorbar": {
             "outlinewidth": 0,
             "ticks": ""
            },
            "colorscale": [
             [
              0,
              "#0d0887"
             ],
             [
              0.1111111111111111,
              "#46039f"
             ],
             [
              0.2222222222222222,
              "#7201a8"
             ],
             [
              0.3333333333333333,
              "#9c179e"
             ],
             [
              0.4444444444444444,
              "#bd3786"
             ],
             [
              0.5555555555555556,
              "#d8576b"
             ],
             [
              0.6666666666666666,
              "#ed7953"
             ],
             [
              0.7777777777777778,
              "#fb9f3a"
             ],
             [
              0.8888888888888888,
              "#fdca26"
             ],
             [
              1,
              "#f0f921"
             ]
            ],
            "type": "histogram2d"
           }
          ],
          "histogram2dcontour": [
           {
            "colorbar": {
             "outlinewidth": 0,
             "ticks": ""
            },
            "colorscale": [
             [
              0,
              "#0d0887"
             ],
             [
              0.1111111111111111,
              "#46039f"
             ],
             [
              0.2222222222222222,
              "#7201a8"
             ],
             [
              0.3333333333333333,
              "#9c179e"
             ],
             [
              0.4444444444444444,
              "#bd3786"
             ],
             [
              0.5555555555555556,
              "#d8576b"
             ],
             [
              0.6666666666666666,
              "#ed7953"
             ],
             [
              0.7777777777777778,
              "#fb9f3a"
             ],
             [
              0.8888888888888888,
              "#fdca26"
             ],
             [
              1,
              "#f0f921"
             ]
            ],
            "type": "histogram2dcontour"
           }
          ],
          "mesh3d": [
           {
            "colorbar": {
             "outlinewidth": 0,
             "ticks": ""
            },
            "type": "mesh3d"
           }
          ],
          "parcoords": [
           {
            "line": {
             "colorbar": {
              "outlinewidth": 0,
              "ticks": ""
             }
            },
            "type": "parcoords"
           }
          ],
          "pie": [
           {
            "automargin": true,
            "type": "pie"
           }
          ],
          "scatter": [
           {
            "fillpattern": {
             "fillmode": "overlay",
             "size": 10,
             "solidity": 0.2
            },
            "type": "scatter"
           }
          ],
          "scatter3d": [
           {
            "line": {
             "colorbar": {
              "outlinewidth": 0,
              "ticks": ""
             }
            },
            "marker": {
             "colorbar": {
              "outlinewidth": 0,
              "ticks": ""
             }
            },
            "type": "scatter3d"
           }
          ],
          "scattercarpet": [
           {
            "marker": {
             "colorbar": {
              "outlinewidth": 0,
              "ticks": ""
             }
            },
            "type": "scattercarpet"
           }
          ],
          "scattergeo": [
           {
            "marker": {
             "colorbar": {
              "outlinewidth": 0,
              "ticks": ""
             }
            },
            "type": "scattergeo"
           }
          ],
          "scattergl": [
           {
            "marker": {
             "colorbar": {
              "outlinewidth": 0,
              "ticks": ""
             }
            },
            "type": "scattergl"
           }
          ],
          "scattermap": [
           {
            "marker": {
             "colorbar": {
              "outlinewidth": 0,
              "ticks": ""
             }
            },
            "type": "scattermap"
           }
          ],
          "scattermapbox": [
           {
            "marker": {
             "colorbar": {
              "outlinewidth": 0,
              "ticks": ""
             }
            },
            "type": "scattermapbox"
           }
          ],
          "scatterpolar": [
           {
            "marker": {
             "colorbar": {
              "outlinewidth": 0,
              "ticks": ""
             }
            },
            "type": "scatterpolar"
           }
          ],
          "scatterpolargl": [
           {
            "marker": {
             "colorbar": {
              "outlinewidth": 0,
              "ticks": ""
             }
            },
            "type": "scatterpolargl"
           }
          ],
          "scatterternary": [
           {
            "marker": {
             "colorbar": {
              "outlinewidth": 0,
              "ticks": ""
             }
            },
            "type": "scatterternary"
           }
          ],
          "surface": [
           {
            "colorbar": {
             "outlinewidth": 0,
             "ticks": ""
            },
            "colorscale": [
             [
              0,
              "#0d0887"
             ],
             [
              0.1111111111111111,
              "#46039f"
             ],
             [
              0.2222222222222222,
              "#7201a8"
             ],
             [
              0.3333333333333333,
              "#9c179e"
             ],
             [
              0.4444444444444444,
              "#bd3786"
             ],
             [
              0.5555555555555556,
              "#d8576b"
             ],
             [
              0.6666666666666666,
              "#ed7953"
             ],
             [
              0.7777777777777778,
              "#fb9f3a"
             ],
             [
              0.8888888888888888,
              "#fdca26"
             ],
             [
              1,
              "#f0f921"
             ]
            ],
            "type": "surface"
           }
          ],
          "table": [
           {
            "cells": {
             "fill": {
              "color": "#EBF0F8"
             },
             "line": {
              "color": "white"
             }
            },
            "header": {
             "fill": {
              "color": "#C8D4E3"
             },
             "line": {
              "color": "white"
             }
            },
            "type": "table"
           }
          ]
         },
         "layout": {
          "annotationdefaults": {
           "arrowcolor": "#2a3f5f",
           "arrowhead": 0,
           "arrowwidth": 1
          },
          "autotypenumbers": "strict",
          "coloraxis": {
           "colorbar": {
            "outlinewidth": 0,
            "ticks": ""
           }
          },
          "colorscale": {
           "diverging": [
            [
             0,
             "#8e0152"
            ],
            [
             0.1,
             "#c51b7d"
            ],
            [
             0.2,
             "#de77ae"
            ],
            [
             0.3,
             "#f1b6da"
            ],
            [
             0.4,
             "#fde0ef"
            ],
            [
             0.5,
             "#f7f7f7"
            ],
            [
             0.6,
             "#e6f5d0"
            ],
            [
             0.7,
             "#b8e186"
            ],
            [
             0.8,
             "#7fbc41"
            ],
            [
             0.9,
             "#4d9221"
            ],
            [
             1,
             "#276419"
            ]
           ],
           "sequential": [
            [
             0,
             "#0d0887"
            ],
            [
             0.1111111111111111,
             "#46039f"
            ],
            [
             0.2222222222222222,
             "#7201a8"
            ],
            [
             0.3333333333333333,
             "#9c179e"
            ],
            [
             0.4444444444444444,
             "#bd3786"
            ],
            [
             0.5555555555555556,
             "#d8576b"
            ],
            [
             0.6666666666666666,
             "#ed7953"
            ],
            [
             0.7777777777777778,
             "#fb9f3a"
            ],
            [
             0.8888888888888888,
             "#fdca26"
            ],
            [
             1,
             "#f0f921"
            ]
           ],
           "sequentialminus": [
            [
             0,
             "#0d0887"
            ],
            [
             0.1111111111111111,
             "#46039f"
            ],
            [
             0.2222222222222222,
             "#7201a8"
            ],
            [
             0.3333333333333333,
             "#9c179e"
            ],
            [
             0.4444444444444444,
             "#bd3786"
            ],
            [
             0.5555555555555556,
             "#d8576b"
            ],
            [
             0.6666666666666666,
             "#ed7953"
            ],
            [
             0.7777777777777778,
             "#fb9f3a"
            ],
            [
             0.8888888888888888,
             "#fdca26"
            ],
            [
             1,
             "#f0f921"
            ]
           ]
          },
          "colorway": [
           "#636efa",
           "#EF553B",
           "#00cc96",
           "#ab63fa",
           "#FFA15A",
           "#19d3f3",
           "#FF6692",
           "#B6E880",
           "#FF97FF",
           "#FECB52"
          ],
          "font": {
           "color": "#2a3f5f"
          },
          "geo": {
           "bgcolor": "white",
           "lakecolor": "white",
           "landcolor": "#E5ECF6",
           "showlakes": true,
           "showland": true,
           "subunitcolor": "white"
          },
          "hoverlabel": {
           "align": "left"
          },
          "hovermode": "closest",
          "mapbox": {
           "style": "light"
          },
          "paper_bgcolor": "white",
          "plot_bgcolor": "#E5ECF6",
          "polar": {
           "angularaxis": {
            "gridcolor": "white",
            "linecolor": "white",
            "ticks": ""
           },
           "bgcolor": "#E5ECF6",
           "radialaxis": {
            "gridcolor": "white",
            "linecolor": "white",
            "ticks": ""
           }
          },
          "scene": {
           "xaxis": {
            "backgroundcolor": "#E5ECF6",
            "gridcolor": "white",
            "gridwidth": 2,
            "linecolor": "white",
            "showbackground": true,
            "ticks": "",
            "zerolinecolor": "white"
           },
           "yaxis": {
            "backgroundcolor": "#E5ECF6",
            "gridcolor": "white",
            "gridwidth": 2,
            "linecolor": "white",
            "showbackground": true,
            "ticks": "",
            "zerolinecolor": "white"
           },
           "zaxis": {
            "backgroundcolor": "#E5ECF6",
            "gridcolor": "white",
            "gridwidth": 2,
            "linecolor": "white",
            "showbackground": true,
            "ticks": "",
            "zerolinecolor": "white"
           }
          },
          "shapedefaults": {
           "line": {
            "color": "#2a3f5f"
           }
          },
          "ternary": {
           "aaxis": {
            "gridcolor": "white",
            "linecolor": "white",
            "ticks": ""
           },
           "baxis": {
            "gridcolor": "white",
            "linecolor": "white",
            "ticks": ""
           },
           "bgcolor": "#E5ECF6",
           "caxis": {
            "gridcolor": "white",
            "linecolor": "white",
            "ticks": ""
           }
          },
          "title": {
           "x": 0.05
          },
          "xaxis": {
           "automargin": true,
           "gridcolor": "white",
           "linecolor": "white",
           "ticks": "",
           "title": {
            "standoff": 15
           },
           "zerolinecolor": "white",
           "zerolinewidth": 2
          },
          "yaxis": {
           "automargin": true,
           "gridcolor": "white",
           "linecolor": "white",
           "ticks": "",
           "title": {
            "standoff": 15
           },
           "zerolinecolor": "white",
           "zerolinewidth": 2
          }
         }
        },
        "title": {
         "text": "Player of the matches"
        },
        "xaxis": {
         "anchor": "y",
         "domain": [
          0,
          1
         ],
         "title": {
          "text": "count"
         }
        },
        "yaxis": {
         "anchor": "x",
         "domain": [
          0,
          1
         ],
         "title": {
          "text": "value"
         }
        }
       }
      }
     },
     "metadata": {},
     "output_type": "display_data"
    }
   ],
   "source": [
    "fig = px.bar(df,x=[\"player_of_the_match\"],title=\"Player of the matches\")\n",
    "fig.show()"
   ]
  },
  {
   "cell_type": "markdown",
   "id": "980e41eb",
   "metadata": {},
   "source": [
    "# Top Scorer in ipl 2022"
   ]
  },
  {
   "cell_type": "code",
   "execution_count": 49,
   "id": "6fd4af75",
   "metadata": {},
   "outputs": [
    {
     "data": {
      "application/vnd.plotly.v1+json": {
       "config": {
        "plotlyServerURL": "https://plot.ly"
       },
       "data": [
        {
         "customdata": [
          [
           "MS Dhoni",
           50
          ],
          [
           "Ishan Kishan",
           81
          ],
          [
           "Faf du Plessis",
           88
          ],
          [
           "Deepak Hooda",
           55
          ],
          [
           "Aiden Markram",
           57
          ],
          [
           "Sherfane Rutherford",
           28
          ],
          [
           "Quinton de Kock",
           61
          ],
          [
           "Andre Russell",
           70
          ],
          [
           "Jos Buttler",
           100
          ],
          [
           "Shubman Gill",
           84
          ],
          [
           "LiamLivingstone",
           60
          ],
          [
           "KL Rahul",
           68
          ],
          [
           "Jos Buttler",
           70
          ],
          [
           "Pat Cummins",
           56
          ],
          [
           "Quinton de Kock",
           80
          ],
          [
           "Shubman Gill",
           96
          ],
          [
           "Abhishek Sharma",
           75
          ],
          [
           "Suryakumar Yadav",
           68
          ],
          [
           "David Warner",
           61
          ],
          [
           "Shimron Hetmyer",
           59
          ],
          [
           "Kane Williamson",
           57
          ],
          [
           "Shivam Dube",
           95
          ],
          [
           "Shikhar Dhawan",
           70
          ],
          [
           "Hardik Pandya",
           87
          ],
          [
           "Rahul Tripathi",
           71
          ],
          [
           "KL Rahul",
           103
          ],
          [
           "Dinesh Karthik",
           66
          ],
          [
           "LiamLivingstone",
           60
          ],
          [
           "David Miller",
           94
          ],
          [
           "Jos Buttler",
           103
          ],
          [
           "Faf du Plessis",
           96
          ],
          [
           "David Warner",
           60
          ],
          [
           "Tilak Varma",
           51
          ],
          [
           "Jos Buttler",
           116
          ],
          [
           "Hardik Pandya",
           67
          ],
          [
           "Abhishek Sharma",
           47
          ],
          [
           "KL Rahul",
           103
          ],
          [
           "Shikhar Dhawan",
           88
          ],
          [
           "Riyan Parag",
           56
          ],
          [
           "W. Saha",
           68
          ],
          [
           "Nitish Rana",
           57
          ],
          [
           "Quinton de Kock",
           46
          ],
          [
           "Virat Kohli",
           58
          ],
          [
           "Jos Buttler",
           67
          ],
          [
           "KL Rahul",
           77
          ],
          [
           "Ruturaj Gaikwad",
           99
          ],
          [
           "Sanju Samson",
           54
          ],
          [
           "Sai Sudharsan",
           65
          ],
          [
           "Devon Conway",
           56
          ],
          [
           null,
           null
          ],
          [
           null,
           null
          ],
          [
           null,
           null
          ],
          [
           null,
           null
          ]
         ],
         "hovertemplate": "x=%{x}<br>y=%{y}<br>top_scorer=%{customdata[0]}<br>highscore=%{customdata[1]}<br>color=%{marker.color}<extra></extra>",
         "legendgroup": "",
         "marker": {
          "color": {
           "bdata": "AAAAAAAASUAAAAAAAEBUQAAAAAAAAFZAAAAAAACAS0AAAAAAAIBMQAAAAAAAADxAAAAAAACATkAAAAAAAIBRQAAAAAAAAFlAAAAAAAAAVUAAAAAAAABOQAAAAAAAAFFAAAAAAACAUUAAAAAAAABMQAAAAAAAAFRAAAAAAAAAWEAAAAAAAMBSQAAAAAAAAFFAAAAAAACATkAAAAAAAIBNQAAAAAAAgExAAAAAAADAV0AAAAAAAIBRQAAAAAAAwFVAAAAAAADAUUAAAAAAAMBZQAAAAAAAgFBAAAAAAAAATkAAAAAAAIBXQAAAAAAAwFlAAAAAAAAAWEAAAAAAAABOQAAAAAAAgElAAAAAAAAAXUAAAAAAAMBQQAAAAAAAgEdAAAAAAADAWUAAAAAAAABWQAAAAAAAAExAAAAAAAAAUUAAAAAAAIBMQAAAAAAAAEdAAAAAAAAATUAAAAAAAMBQQAAAAAAAQFNAAAAAAADAWEAAAAAAAABLQAAAAAAAQFBAAAAAAAAATEAAAAAAAAD4fwAAAAAAAPh/AAAAAAAA+H8AAAAAAAD4fw==",
           "dtype": "f8"
          },
          "coloraxis": "coloraxis",
          "pattern": {
           "shape": ""
          }
         },
         "name": "",
         "orientation": "v",
         "showlegend": false,
         "textposition": "auto",
         "type": "bar",
         "x": [
          "MS Dhoni",
          "Ishan Kishan",
          "Faf du Plessis",
          "Deepak Hooda",
          "Aiden Markram",
          "Sherfane Rutherford",
          "Quinton de Kock",
          "Andre Russell",
          "Jos Buttler",
          "Shubman Gill",
          "LiamLivingstone",
          "KL Rahul",
          "Jos Buttler",
          "Pat Cummins",
          "Quinton de Kock",
          "Shubman Gill",
          "Abhishek Sharma",
          "Suryakumar Yadav",
          "David Warner",
          "Shimron Hetmyer",
          "Kane Williamson",
          "Shivam Dube",
          "Shikhar Dhawan",
          "Hardik Pandya",
          "Rahul Tripathi",
          "KL Rahul",
          "Dinesh Karthik",
          "LiamLivingstone",
          "David Miller",
          "Jos Buttler",
          "Faf du Plessis",
          "David Warner",
          "Tilak Varma",
          "Jos Buttler",
          "Hardik Pandya",
          "Abhishek Sharma",
          "KL Rahul",
          "Shikhar Dhawan",
          "Riyan Parag",
          "W. Saha",
          "Nitish Rana",
          "Quinton de Kock",
          "Virat Kohli",
          "Jos Buttler",
          "KL Rahul",
          "Ruturaj Gaikwad",
          "Sanju Samson",
          "Sai Sudharsan",
          "Devon Conway",
          null,
          null,
          null,
          null
         ],
         "xaxis": "x",
         "y": {
          "bdata": "AAAAAAAASUAAAAAAAEBUQAAAAAAAAFZAAAAAAACAS0AAAAAAAIBMQAAAAAAAADxAAAAAAACATkAAAAAAAIBRQAAAAAAAAFlAAAAAAAAAVUAAAAAAAABOQAAAAAAAAFFAAAAAAACAUUAAAAAAAABMQAAAAAAAAFRAAAAAAAAAWEAAAAAAAMBSQAAAAAAAAFFAAAAAAACATkAAAAAAAIBNQAAAAAAAgExAAAAAAADAV0AAAAAAAIBRQAAAAAAAwFVAAAAAAADAUUAAAAAAAMBZQAAAAAAAgFBAAAAAAAAATkAAAAAAAIBXQAAAAAAAwFlAAAAAAAAAWEAAAAAAAABOQAAAAAAAgElAAAAAAAAAXUAAAAAAAMBQQAAAAAAAgEdAAAAAAADAWUAAAAAAAABWQAAAAAAAAExAAAAAAAAAUUAAAAAAAIBMQAAAAAAAAEdAAAAAAAAATUAAAAAAAMBQQAAAAAAAQFNAAAAAAADAWEAAAAAAAABLQAAAAAAAQFBAAAAAAAAATEAAAAAAAAD4fwAAAAAAAPh/AAAAAAAA+H8AAAAAAAD4fw==",
          "dtype": "f8"
         },
         "yaxis": "y"
        }
       ],
       "layout": {
        "barmode": "relative",
        "coloraxis": {
         "colorbar": {
          "title": {
           "text": "color"
          }
         },
         "colorscale": [
          [
           0,
           "#0d0887"
          ],
          [
           0.1111111111111111,
           "#46039f"
          ],
          [
           0.2222222222222222,
           "#7201a8"
          ],
          [
           0.3333333333333333,
           "#9c179e"
          ],
          [
           0.4444444444444444,
           "#bd3786"
          ],
          [
           0.5555555555555556,
           "#d8576b"
          ],
          [
           0.6666666666666666,
           "#ed7953"
          ],
          [
           0.7777777777777778,
           "#fb9f3a"
          ],
          [
           0.8888888888888888,
           "#fdca26"
          ],
          [
           1,
           "#f0f921"
          ]
         ]
        },
        "legend": {
         "tracegroupgap": 0
        },
        "template": {
         "data": {
          "bar": [
           {
            "error_x": {
             "color": "#2a3f5f"
            },
            "error_y": {
             "color": "#2a3f5f"
            },
            "marker": {
             "line": {
              "color": "#E5ECF6",
              "width": 0.5
             },
             "pattern": {
              "fillmode": "overlay",
              "size": 10,
              "solidity": 0.2
             }
            },
            "type": "bar"
           }
          ],
          "barpolar": [
           {
            "marker": {
             "line": {
              "color": "#E5ECF6",
              "width": 0.5
             },
             "pattern": {
              "fillmode": "overlay",
              "size": 10,
              "solidity": 0.2
             }
            },
            "type": "barpolar"
           }
          ],
          "carpet": [
           {
            "aaxis": {
             "endlinecolor": "#2a3f5f",
             "gridcolor": "white",
             "linecolor": "white",
             "minorgridcolor": "white",
             "startlinecolor": "#2a3f5f"
            },
            "baxis": {
             "endlinecolor": "#2a3f5f",
             "gridcolor": "white",
             "linecolor": "white",
             "minorgridcolor": "white",
             "startlinecolor": "#2a3f5f"
            },
            "type": "carpet"
           }
          ],
          "choropleth": [
           {
            "colorbar": {
             "outlinewidth": 0,
             "ticks": ""
            },
            "type": "choropleth"
           }
          ],
          "contour": [
           {
            "colorbar": {
             "outlinewidth": 0,
             "ticks": ""
            },
            "colorscale": [
             [
              0,
              "#0d0887"
             ],
             [
              0.1111111111111111,
              "#46039f"
             ],
             [
              0.2222222222222222,
              "#7201a8"
             ],
             [
              0.3333333333333333,
              "#9c179e"
             ],
             [
              0.4444444444444444,
              "#bd3786"
             ],
             [
              0.5555555555555556,
              "#d8576b"
             ],
             [
              0.6666666666666666,
              "#ed7953"
             ],
             [
              0.7777777777777778,
              "#fb9f3a"
             ],
             [
              0.8888888888888888,
              "#fdca26"
             ],
             [
              1,
              "#f0f921"
             ]
            ],
            "type": "contour"
           }
          ],
          "contourcarpet": [
           {
            "colorbar": {
             "outlinewidth": 0,
             "ticks": ""
            },
            "type": "contourcarpet"
           }
          ],
          "heatmap": [
           {
            "colorbar": {
             "outlinewidth": 0,
             "ticks": ""
            },
            "colorscale": [
             [
              0,
              "#0d0887"
             ],
             [
              0.1111111111111111,
              "#46039f"
             ],
             [
              0.2222222222222222,
              "#7201a8"
             ],
             [
              0.3333333333333333,
              "#9c179e"
             ],
             [
              0.4444444444444444,
              "#bd3786"
             ],
             [
              0.5555555555555556,
              "#d8576b"
             ],
             [
              0.6666666666666666,
              "#ed7953"
             ],
             [
              0.7777777777777778,
              "#fb9f3a"
             ],
             [
              0.8888888888888888,
              "#fdca26"
             ],
             [
              1,
              "#f0f921"
             ]
            ],
            "type": "heatmap"
           }
          ],
          "histogram": [
           {
            "marker": {
             "pattern": {
              "fillmode": "overlay",
              "size": 10,
              "solidity": 0.2
             }
            },
            "type": "histogram"
           }
          ],
          "histogram2d": [
           {
            "colorbar": {
             "outlinewidth": 0,
             "ticks": ""
            },
            "colorscale": [
             [
              0,
              "#0d0887"
             ],
             [
              0.1111111111111111,
              "#46039f"
             ],
             [
              0.2222222222222222,
              "#7201a8"
             ],
             [
              0.3333333333333333,
              "#9c179e"
             ],
             [
              0.4444444444444444,
              "#bd3786"
             ],
             [
              0.5555555555555556,
              "#d8576b"
             ],
             [
              0.6666666666666666,
              "#ed7953"
             ],
             [
              0.7777777777777778,
              "#fb9f3a"
             ],
             [
              0.8888888888888888,
              "#fdca26"
             ],
             [
              1,
              "#f0f921"
             ]
            ],
            "type": "histogram2d"
           }
          ],
          "histogram2dcontour": [
           {
            "colorbar": {
             "outlinewidth": 0,
             "ticks": ""
            },
            "colorscale": [
             [
              0,
              "#0d0887"
             ],
             [
              0.1111111111111111,
              "#46039f"
             ],
             [
              0.2222222222222222,
              "#7201a8"
             ],
             [
              0.3333333333333333,
              "#9c179e"
             ],
             [
              0.4444444444444444,
              "#bd3786"
             ],
             [
              0.5555555555555556,
              "#d8576b"
             ],
             [
              0.6666666666666666,
              "#ed7953"
             ],
             [
              0.7777777777777778,
              "#fb9f3a"
             ],
             [
              0.8888888888888888,
              "#fdca26"
             ],
             [
              1,
              "#f0f921"
             ]
            ],
            "type": "histogram2dcontour"
           }
          ],
          "mesh3d": [
           {
            "colorbar": {
             "outlinewidth": 0,
             "ticks": ""
            },
            "type": "mesh3d"
           }
          ],
          "parcoords": [
           {
            "line": {
             "colorbar": {
              "outlinewidth": 0,
              "ticks": ""
             }
            },
            "type": "parcoords"
           }
          ],
          "pie": [
           {
            "automargin": true,
            "type": "pie"
           }
          ],
          "scatter": [
           {
            "fillpattern": {
             "fillmode": "overlay",
             "size": 10,
             "solidity": 0.2
            },
            "type": "scatter"
           }
          ],
          "scatter3d": [
           {
            "line": {
             "colorbar": {
              "outlinewidth": 0,
              "ticks": ""
             }
            },
            "marker": {
             "colorbar": {
              "outlinewidth": 0,
              "ticks": ""
             }
            },
            "type": "scatter3d"
           }
          ],
          "scattercarpet": [
           {
            "marker": {
             "colorbar": {
              "outlinewidth": 0,
              "ticks": ""
             }
            },
            "type": "scattercarpet"
           }
          ],
          "scattergeo": [
           {
            "marker": {
             "colorbar": {
              "outlinewidth": 0,
              "ticks": ""
             }
            },
            "type": "scattergeo"
           }
          ],
          "scattergl": [
           {
            "marker": {
             "colorbar": {
              "outlinewidth": 0,
              "ticks": ""
             }
            },
            "type": "scattergl"
           }
          ],
          "scattermap": [
           {
            "marker": {
             "colorbar": {
              "outlinewidth": 0,
              "ticks": ""
             }
            },
            "type": "scattermap"
           }
          ],
          "scattermapbox": [
           {
            "marker": {
             "colorbar": {
              "outlinewidth": 0,
              "ticks": ""
             }
            },
            "type": "scattermapbox"
           }
          ],
          "scatterpolar": [
           {
            "marker": {
             "colorbar": {
              "outlinewidth": 0,
              "ticks": ""
             }
            },
            "type": "scatterpolar"
           }
          ],
          "scatterpolargl": [
           {
            "marker": {
             "colorbar": {
              "outlinewidth": 0,
              "ticks": ""
             }
            },
            "type": "scatterpolargl"
           }
          ],
          "scatterternary": [
           {
            "marker": {
             "colorbar": {
              "outlinewidth": 0,
              "ticks": ""
             }
            },
            "type": "scatterternary"
           }
          ],
          "surface": [
           {
            "colorbar": {
             "outlinewidth": 0,
             "ticks": ""
            },
            "colorscale": [
             [
              0,
              "#0d0887"
             ],
             [
              0.1111111111111111,
              "#46039f"
             ],
             [
              0.2222222222222222,
              "#7201a8"
             ],
             [
              0.3333333333333333,
              "#9c179e"
             ],
             [
              0.4444444444444444,
              "#bd3786"
             ],
             [
              0.5555555555555556,
              "#d8576b"
             ],
             [
              0.6666666666666666,
              "#ed7953"
             ],
             [
              0.7777777777777778,
              "#fb9f3a"
             ],
             [
              0.8888888888888888,
              "#fdca26"
             ],
             [
              1,
              "#f0f921"
             ]
            ],
            "type": "surface"
           }
          ],
          "table": [
           {
            "cells": {
             "fill": {
              "color": "#EBF0F8"
             },
             "line": {
              "color": "white"
             }
            },
            "header": {
             "fill": {
              "color": "#C8D4E3"
             },
             "line": {
              "color": "white"
             }
            },
            "type": "table"
           }
          ]
         },
         "layout": {
          "annotationdefaults": {
           "arrowcolor": "#2a3f5f",
           "arrowhead": 0,
           "arrowwidth": 1
          },
          "autotypenumbers": "strict",
          "coloraxis": {
           "colorbar": {
            "outlinewidth": 0,
            "ticks": ""
           }
          },
          "colorscale": {
           "diverging": [
            [
             0,
             "#8e0152"
            ],
            [
             0.1,
             "#c51b7d"
            ],
            [
             0.2,
             "#de77ae"
            ],
            [
             0.3,
             "#f1b6da"
            ],
            [
             0.4,
             "#fde0ef"
            ],
            [
             0.5,
             "#f7f7f7"
            ],
            [
             0.6,
             "#e6f5d0"
            ],
            [
             0.7,
             "#b8e186"
            ],
            [
             0.8,
             "#7fbc41"
            ],
            [
             0.9,
             "#4d9221"
            ],
            [
             1,
             "#276419"
            ]
           ],
           "sequential": [
            [
             0,
             "#0d0887"
            ],
            [
             0.1111111111111111,
             "#46039f"
            ],
            [
             0.2222222222222222,
             "#7201a8"
            ],
            [
             0.3333333333333333,
             "#9c179e"
            ],
            [
             0.4444444444444444,
             "#bd3786"
            ],
            [
             0.5555555555555556,
             "#d8576b"
            ],
            [
             0.6666666666666666,
             "#ed7953"
            ],
            [
             0.7777777777777778,
             "#fb9f3a"
            ],
            [
             0.8888888888888888,
             "#fdca26"
            ],
            [
             1,
             "#f0f921"
            ]
           ],
           "sequentialminus": [
            [
             0,
             "#0d0887"
            ],
            [
             0.1111111111111111,
             "#46039f"
            ],
            [
             0.2222222222222222,
             "#7201a8"
            ],
            [
             0.3333333333333333,
             "#9c179e"
            ],
            [
             0.4444444444444444,
             "#bd3786"
            ],
            [
             0.5555555555555556,
             "#d8576b"
            ],
            [
             0.6666666666666666,
             "#ed7953"
            ],
            [
             0.7777777777777778,
             "#fb9f3a"
            ],
            [
             0.8888888888888888,
             "#fdca26"
            ],
            [
             1,
             "#f0f921"
            ]
           ]
          },
          "colorway": [
           "#636efa",
           "#EF553B",
           "#00cc96",
           "#ab63fa",
           "#FFA15A",
           "#19d3f3",
           "#FF6692",
           "#B6E880",
           "#FF97FF",
           "#FECB52"
          ],
          "font": {
           "color": "#2a3f5f"
          },
          "geo": {
           "bgcolor": "white",
           "lakecolor": "white",
           "landcolor": "#E5ECF6",
           "showlakes": true,
           "showland": true,
           "subunitcolor": "white"
          },
          "hoverlabel": {
           "align": "left"
          },
          "hovermode": "closest",
          "mapbox": {
           "style": "light"
          },
          "paper_bgcolor": "white",
          "plot_bgcolor": "#E5ECF6",
          "polar": {
           "angularaxis": {
            "gridcolor": "white",
            "linecolor": "white",
            "ticks": ""
           },
           "bgcolor": "#E5ECF6",
           "radialaxis": {
            "gridcolor": "white",
            "linecolor": "white",
            "ticks": ""
           }
          },
          "scene": {
           "xaxis": {
            "backgroundcolor": "#E5ECF6",
            "gridcolor": "white",
            "gridwidth": 2,
            "linecolor": "white",
            "showbackground": true,
            "ticks": "",
            "zerolinecolor": "white"
           },
           "yaxis": {
            "backgroundcolor": "#E5ECF6",
            "gridcolor": "white",
            "gridwidth": 2,
            "linecolor": "white",
            "showbackground": true,
            "ticks": "",
            "zerolinecolor": "white"
           },
           "zaxis": {
            "backgroundcolor": "#E5ECF6",
            "gridcolor": "white",
            "gridwidth": 2,
            "linecolor": "white",
            "showbackground": true,
            "ticks": "",
            "zerolinecolor": "white"
           }
          },
          "shapedefaults": {
           "line": {
            "color": "#2a3f5f"
           }
          },
          "ternary": {
           "aaxis": {
            "gridcolor": "white",
            "linecolor": "white",
            "ticks": ""
           },
           "baxis": {
            "gridcolor": "white",
            "linecolor": "white",
            "ticks": ""
           },
           "bgcolor": "#E5ECF6",
           "caxis": {
            "gridcolor": "white",
            "linecolor": "white",
            "ticks": ""
           }
          },
          "title": {
           "x": 0.05
          },
          "xaxis": {
           "automargin": true,
           "gridcolor": "white",
           "linecolor": "white",
           "ticks": "",
           "title": {
            "standoff": 15
           },
           "zerolinecolor": "white",
           "zerolinewidth": 2
          },
          "yaxis": {
           "automargin": true,
           "gridcolor": "white",
           "linecolor": "white",
           "ticks": "",
           "title": {
            "standoff": 15
           },
           "zerolinecolor": "white",
           "zerolinewidth": 2
          }
         }
        },
        "title": {
         "text": "Top Scorer of ipl 2022"
        },
        "xaxis": {
         "anchor": "y",
         "domain": [
          0,
          1
         ],
         "title": {
          "text": "x"
         }
        },
        "yaxis": {
         "anchor": "x",
         "domain": [
          0,
          1
         ],
         "title": {
          "text": "y"
         }
        }
       }
      }
     },
     "metadata": {},
     "output_type": "display_data"
    }
   ],
   "source": [
    "fig = px.bar(df,x=df[\"top_scorer\"],\n",
    "             y=df[\"highscore\"],color=df[\"highscore\"],\n",
    "             title=\"Top Scorer of ipl 2022\",\n",
    "             hover_data={\n",
    "                 \"top_scorer\":True,\n",
    "                 \"highscore\":True\n",
    "                 \n",
    "             })\n",
    "fig.show()"
   ]
  },
  {
   "cell_type": "code",
   "execution_count": null,
   "id": "7910ab7a",
   "metadata": {},
   "outputs": [],
   "source": []
  }
 ],
 "metadata": {
  "kernelspec": {
   "display_name": "Python 3",
   "language": "python",
   "name": "python3"
  },
  "language_info": {
   "codemirror_mode": {
    "name": "ipython",
    "version": 3
   },
   "file_extension": ".py",
   "mimetype": "text/x-python",
   "name": "python",
   "nbconvert_exporter": "python",
   "pygments_lexer": "ipython3",
   "version": "3.13.1"
  }
 },
 "nbformat": 4,
 "nbformat_minor": 5
}
